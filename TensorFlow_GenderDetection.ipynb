{
  "nbformat": 4,
  "nbformat_minor": 0,
  "metadata": {
    "colab": {
      "name": "TensorFlow_GenderDetection.ipynb",
      "provenance": [],
      "collapsed_sections": []
    },
    "kernelspec": {
      "name": "python3",
      "display_name": "Python 3"
    }
  },
  "cells": [
    {
      "cell_type": "markdown",
      "metadata": {
        "id": "Lby00JI-cH1p"
      },
      "source": [
        "this is basically https://www.kaggle.com/bmarcos/image-recognition-gender-detection-inceptionv3 \n",
        "i only changed a couple things around so it would be able to run on my computer. the link has a lot more to look at to help understand the data, but i took it out to simplify what we actually need. i think it would be relatively simple to add in variables we want to test for, i just havent tried that. so far, this one is just training on the \"male\" variable. \n",
        "\n",
        "i did have some trouble with the validation testing, so that still needs some work because when I ran it, the loss kept going up and im not sure why. "
      ]
    },
    {
      "cell_type": "code",
      "metadata": {
        "id": "eR42FhEJ9Ec4"
      },
      "source": [
        "import pandas as pd\n",
        "import numpy as np\n",
        "import cv2    \n",
        "import matplotlib.pyplot as plt\n",
        "import seaborn as sns\n",
        "from sklearn.metrics import f1_score\n",
        "from keras import applications \n",
        "from keras.applications.inception_v3 import InceptionV3, preprocess_input\n",
        "from keras import optimizers\n",
        "from keras.models import Sequential, Model \n",
        "from keras.layers import Dropout, Flatten, Dense, GlobalAveragePooling2D\n",
        "from keras.callbacks import ModelCheckpoint\n",
        "from keras.preprocessing.image import ImageDataGenerator, array_to_img, img_to_array, load_img\n",
        "from keras.utils import np_utils\n",
        "from keras.optimizers import SGD\n",
        "\n",
        "from IPython.core.display import display, HTML\n",
        "from PIL import Image\n",
        "from io import BytesIO\n",
        "import base64\n",
        "\n",
        "plt.style.use('ggplot')\n",
        "\n",
        "%matplotlib inline"
      ],
      "execution_count": null,
      "outputs": []
    },
    {
      "cell_type": "code",
      "metadata": {
        "id": "nM4msNRJ9Lpm"
      },
      "source": [
        "import tensorflow as tf\n",
        "print(tf.__version__)"
      ],
      "execution_count": null,
      "outputs": []
    },
    {
      "cell_type": "markdown",
      "metadata": {
        "id": "GB7TN_qn9Ok1"
      },
      "source": [
        "Hyperparameters"
      ]
    },
    {
      "cell_type": "code",
      "metadata": {
        "id": "xJVrU8cg9R-P"
      },
      "source": [
        "# set variables \n",
        "main_folder = '../archive/'\n",
        "images_folder = main_folder + 'img_align_celeba/img_align_celeba/'\n",
        "\n",
        "#EXAMPLE_PIC = images_folder + '000506.jpg'\n",
        "\n",
        "TRAINING_SAMPLES = 10000\n",
        "VALIDATION_SAMPLES = 2000\n",
        "TEST_SAMPLES = 2000\n",
        "IMG_WIDTH = 178\n",
        "IMG_HEIGHT = 218\n",
        "BATCH_SIZE = 16\n",
        "NUM_EPOCHS = 15"
      ],
      "execution_count": null,
      "outputs": []
    },
    {
      "cell_type": "code",
      "metadata": {
        "id": "Ka1TqDrE9ZhA"
      },
      "source": [
        "# import the data set that include the attribute for each picture\n",
        "df_attr = pd.read_csv(main_folder + 'list_attr_celeba.csv')\n",
        "df_attr.set_index('image_id', inplace=True)\n",
        "df_attr.replace(to_replace=-1, value=0, inplace=True) #replace -1 by 0\n",
        "df_attr.shape \n",
        "#returns (202559, 40)"
      ],
      "execution_count": null,
      "outputs": []
    },
    {
      "cell_type": "code",
      "metadata": {
        "id": "CqqHWr169gOi"
      },
      "source": [
        "#List of available attributes\n",
        "\n",
        "# for i, j in enumerate(df_attr.columns):\n",
        "#     print(i, j)"
      ],
      "execution_count": null,
      "outputs": []
    },
    {
      "cell_type": "markdown",
      "metadata": {
        "id": "bv1qCSV19wNa"
      },
      "source": [
        "Partitioning of data"
      ]
    },
    {
      "cell_type": "code",
      "metadata": {
        "id": "kSZuV7vi91j9"
      },
      "source": [
        "df_partition = pd.read_csv(main_folder + 'list_eval_partition.csv')\n",
        "# display counter by partition\n",
        "# 0 -> TRAINING\n",
        "# 1 -> VALIDATION\n",
        "# 2 -> TEST\n",
        "df_partition['partition'].value_counts().sort_index()"
      ],
      "execution_count": null,
      "outputs": []
    },
    {
      "cell_type": "code",
      "metadata": {
        "id": "RKd41xj7-C57"
      },
      "source": [
        "# join the partition with the attributes for GENDER\n",
        "\n",
        "df_partition.set_index('image_id', inplace=True)\n",
        "df_par_attr = df_partition.join(df_attr['Male'], how='inner')"
      ],
      "execution_count": null,
      "outputs": []
    },
    {
      "cell_type": "code",
      "metadata": {
        "id": "Sb7LIUeA-POn"
      },
      "source": [
        "def load_reshape_img(fname):\n",
        "    img = load_img(fname)\n",
        "    x = img_to_array(img)/255.\n",
        "    x = x.reshape((1,) + x.shape)\n",
        "\n",
        "    return x\n",
        "\n",
        "\n",
        "def generate_df(partition, attr, num_samples):\n",
        "    '''\n",
        "    partition\n",
        "        0 -> train\n",
        "        1 -> validation\n",
        "        2 -> test\n",
        "    \n",
        "    '''\n",
        "    \n",
        "    df_ = df_par_attr[(df_par_attr['partition'] == partition) \n",
        "                           & (df_par_attr[attr] == 0)].sample(int(num_samples/2))\n",
        "    df_ = pd.concat([df_,\n",
        "                      df_par_attr[(df_par_attr['partition'] == partition) \n",
        "                                  & (df_par_attr[attr] == 1)].sample(int(num_samples/2))])\n",
        "\n",
        "    # for Train and Validation\n",
        "    if partition != 2:\n",
        "        x_ = np.array([load_reshape_img(images_folder + fname) for fname in df_.index])\n",
        "        x_ = x_.reshape(x_.shape[0], 218, 178, 3)\n",
        "        y_ = np_utils.to_categorical(df_[attr],2)\n",
        "    # for Test\n",
        "    else:\n",
        "        x_ = []\n",
        "        y_ = []\n",
        "\n",
        "        for index, target in df_.iterrows():\n",
        "            im = cv2.imread(images_folder + index)\n",
        "            im = cv2.resize(cv2.cvtColor(im, cv2.COLOR_BGR2RGB), (IMG_WIDTH, IMG_HEIGHT)).astype(np.float32) / 255.0\n",
        "            im = np.expand_dims(im, axis =0)\n",
        "            x_.append(im)\n",
        "            y_.append(target[attr])\n",
        "\n",
        "    return x_, y_"
      ],
      "execution_count": null,
      "outputs": []
    },
    {
      "cell_type": "markdown",
      "metadata": {
        "id": "0qizu_s3ad5e"
      },
      "source": [
        "Pre-processing/data augmentation "
      ]
    },
    {
      "cell_type": "code",
      "metadata": {
        "id": "-PVc7S6vac2N"
      },
      "source": [
        "# Generate image generator for data augmentation\n",
        "datagen =  ImageDataGenerator(\n",
        "  #preprocessing_function=preprocess_input,\n",
        "  rotation_range=30,\n",
        "  width_shift_range=0.2,\n",
        "  height_shift_range=0.2,\n",
        "  shear_range=0.2,\n",
        "  zoom_range=0.2,\n",
        "  horizontal_flip=True\n",
        ")\n",
        "\n",
        "# # load one image and reshape\n",
        "# img = load_img(EXAMPLE_PIC)\n",
        "# x = img_to_array(img)/255.\n",
        "# x = x.reshape((1,) + x.shape)\n",
        "\n",
        "# # plot 10 augmented images of the loaded iamge\n",
        "# plt.figure(figsize=(20,10))\n",
        "# plt.suptitle('Data Augmentation', fontsize=28)\n",
        "\n",
        "# i = 0\n",
        "# for batch in datagen.flow(x, batch_size=1):\n",
        "#     plt.subplot(3, 5, i+1)\n",
        "#     plt.grid(False)\n",
        "#     plt.imshow( batch.reshape(218, 178, 3))\n",
        "    \n",
        "#     if i == 9:\n",
        "#         break\n",
        "#     i += 1\n",
        "    \n",
        "# plt.show()"
      ],
      "execution_count": null,
      "outputs": []
    },
    {
      "cell_type": "markdown",
      "metadata": {
        "id": "yHO5G_9-anqE"
      },
      "source": [
        "build data generators"
      ]
    },
    {
      "cell_type": "code",
      "metadata": {
        "id": "29DQBB-_arbE"
      },
      "source": [
        "# Train data\n",
        "x_train, y_train = generate_df(0, 'Male', TRAINING_SAMPLES)\n",
        "\n",
        "# Train - Data Preparation - Data Augmentation with generators\n",
        "train_datagen =  ImageDataGenerator(\n",
        "  preprocessing_function=preprocess_input,\n",
        "  rotation_range=30,\n",
        "  width_shift_range=0.2,\n",
        "  height_shift_range=0.2,\n",
        "  shear_range=0.2,\n",
        "  zoom_range=0.2,\n",
        "  horizontal_flip=True,\n",
        ")\n",
        "\n",
        "train_datagen.fit(x_train)\n",
        "\n",
        "train_generator = train_datagen.flow(\n",
        "x_train, y_train,\n",
        "batch_size=BATCH_SIZE,\n",
        ")"
      ],
      "execution_count": null,
      "outputs": []
    },
    {
      "cell_type": "code",
      "metadata": {
        "id": "k5VNfoY9asIA"
      },
      "source": [
        "# Validation Data\n",
        "x_valid, y_valid = generate_df(1, 'Male', VALIDATION_SAMPLES)\n",
        "\n",
        "\n",
        "# Validation - Data Preparation - Data Augmentation with generators\n",
        "valid_datagen = ImageDataGenerator(\n",
        "  preprocessing_function=preprocess_input,\n",
        ")\n",
        "\n",
        "valid_datagen.fit(x_valid)\n",
        "\n",
        "validation_generator = valid_datagen.flow(\n",
        "x_valid, y_valid,\n",
        ")"
      ],
      "execution_count": null,
      "outputs": []
    },
    {
      "cell_type": "markdown",
      "metadata": {
        "id": "DddJxE5wavls"
      },
      "source": [
        "build model - for gender recognition"
      ]
    },
    {
      "cell_type": "code",
      "metadata": {
        "id": "Pgt3ZKLHauus"
      },
      "source": [
        "# Import InceptionV3 Model\n",
        "inc_model = InceptionV3(weights='imagenet',\n",
        "                        include_top=False,\n",
        "                        input_shape=(IMG_HEIGHT, IMG_WIDTH, 3))\n",
        "\n",
        "print(\"number of layers:\", len(inc_model.layers))\n",
        "#inc_model.summary()"
      ],
      "execution_count": null,
      "outputs": []
    },
    {
      "cell_type": "code",
      "metadata": {
        "id": "FoaMzPmCbK-W"
      },
      "source": [
        "#Adding custom Layers\n",
        "x = inc_model.output\n",
        "x = GlobalAveragePooling2D()(x)\n",
        "x = Dense(1024, activation = \"relu\")(x)\n",
        "x = Dropout(0.5)(x)\n",
        "x = Dense(512, activation = \"relu\")(x)\n",
        "predictions = Dense(2, activation = \"softmax\")(x)"
      ],
      "execution_count": null,
      "outputs": []
    },
    {
      "cell_type": "code",
      "metadata": {
        "id": "_Rqz9x4KbZIM"
      },
      "source": [
        "# creating the final model \n",
        "model_ = Model(inputs=inc_model.input, outputs=predictions)\n",
        "\n",
        "# Lock initial layers to do not be trained\n",
        "for layer in model_.layers[:52]:\n",
        "    layer.trainable = False\n",
        "\n",
        "# compile the model\n",
        "model_.compile(optimizer=SGD(lr=0.0001, momentum=0.9)\n",
        "                    , loss='categorical_crossentropy'\n",
        "                    , metrics=['accuracy'])"
      ],
      "execution_count": null,
      "outputs": []
    },
    {
      "cell_type": "markdown",
      "metadata": {
        "id": "Y_ZGVy4ObdE4"
      },
      "source": [
        "train model"
      ]
    },
    {
      "cell_type": "code",
      "metadata": {
        "id": "AIsa_PSJbcXy"
      },
      "source": [
        "#https://keras.io/models/sequential/ fit generator\n",
        "checkpointer = ModelCheckpoint(filepath='weights.best.inc.male.hdf5', \n",
        "                               verbose=1, save_best_only=True)"
      ],
      "execution_count": null,
      "outputs": []
    },
    {
      "cell_type": "code",
      "metadata": {
        "id": "G_RZwksYbgx2"
      },
      "source": [
        "hist = model_.fit_generator(train_generator\n",
        "                     , validation_data = (x_valid, y_valid)\n",
        "                      , steps_per_epoch= TRAINING_SAMPLES/BATCH_SIZE\n",
        "                      , epochs= NUM_EPOCHS\n",
        "                      , callbacks=[checkpointer]\n",
        "                      , verbose=1\n",
        "                    )"
      ],
      "execution_count": null,
      "outputs": []
    },
    {
      "cell_type": "code",
      "metadata": {
        "id": "xsYyXJt6bkAX"
      },
      "source": [
        "# Plot loss function value through epochs\n",
        "plt.figure(figsize=(18, 4))\n",
        "plt.plot(hist.history['loss'], label = 'train')\n",
        "plt.plot(hist.history['val_loss'], label = 'valid')\n",
        "plt.legend()\n",
        "plt.title('Loss Function')\n",
        "plt.show()"
      ],
      "execution_count": null,
      "outputs": []
    },
    {
      "cell_type": "code",
      "metadata": {
        "id": "6v26F3O0bmtz"
      },
      "source": [
        "# Plot accuracy through epochs\n",
        "plt.figure(figsize=(18, 4))\n",
        "plt.plot(hist.history['accuracy'], label = 'train')\n",
        "plt.plot(hist.history['val_accuracy'], label = 'valid')\n",
        "plt.legend()\n",
        "plt.title('Accuracy')\n",
        "plt.show()"
      ],
      "execution_count": null,
      "outputs": []
    },
    {
      "cell_type": "markdown",
      "metadata": {
        "id": "4115E4THbrNz"
      },
      "source": [
        "model evaluation"
      ]
    },
    {
      "cell_type": "code",
      "metadata": {
        "id": "ofgcRbwJbqaY"
      },
      "source": [
        "#load the best model\n",
        "model_.load_weights('weights.best.inc.male.hdf5')"
      ],
      "execution_count": null,
      "outputs": []
    },
    {
      "cell_type": "code",
      "metadata": {
        "id": "OlzXfPAlbwhE"
      },
      "source": [
        "# Test Data\n",
        "x_test, y_test = generate_df(2, 'Male', TEST_SAMPLES)\n",
        "\n",
        "# generate prediction\n",
        "model_predictions = [np.argmax(model_.predict(feature)) for feature in x_test ]\n",
        "\n",
        "# report test accuracy\n",
        "test_accuracy = 100 * np.sum(np.array(model_predictions)==y_test) / len(model_predictions)\n",
        "print('Model Evaluation')\n",
        "print('Test accuracy: %.4f%%' % test_accuracy)\n",
        "print('f1_score:', f1_score(y_test, model_predictions))"
      ],
      "execution_count": null,
      "outputs": []
    },
    {
      "cell_type": "code",
      "metadata": {
        "id": "MOD18xVPb3eM"
      },
      "source": [
        "#dictionary to name the prediction\n",
        "gender_target = {0: 'Female'\n",
        "                , 1: 'Male'}\n",
        "\n",
        "def img_to_display(filename):\n",
        "   \n",
        "    \n",
        "    i = Image.open(filename)\n",
        "    i.thumbnail((200, 200), Image.LANCZOS)\n",
        "    \n",
        "    with BytesIO() as buffer:\n",
        "        i.save(buffer, 'jpeg')\n",
        "        return base64.b64encode(buffer.getvalue()).decode()\n",
        "    \n",
        "##this part is extra#####\n",
        "def display_result(filename, prediction, target):\n",
        "    '''\n",
        "    Display the results in HTML\n",
        "    \n",
        "    '''\n",
        "\n",
        "    gender = 'Male'\n",
        "    gender_icon = \"https://i.imgur.com/nxWan2u.png\"\n",
        "        \n",
        "    if prediction[1] <= 0.5:\n",
        "        gender_icon = \"https://i.imgur.com/oAAb8rd.png\"\n",
        "        gender = 'Female'\n",
        "            \n",
        "    display_html = '''\n",
        "    <div style=\"overflow: auto;  border: 2px solid #D8D8D8;\n",
        "        padding: 5px; width: 420px;\" >\n",
        "        <img src=\"data:image/jpeg;base64,{}\" style=\"float: left;\" width=\"200\" height=\"200\">\n",
        "        <div style=\"padding: 10px 0px 0px 20px; overflow: auto;\">\n",
        "            <img src=\"{}\" style=\"float: left;\" width=\"40\" height=\"40\">\n",
        "            <h3 style=\"margin-left: 50px; margin-top: 2px;\">{}</h3>\n",
        "            <p style=\"margin-left: 50px; margin-top: -6px; font-size: 12px\">{} prob.</p>\n",
        "            \n",
        "        </div>\n",
        "    </div>\n",
        "    '''.format(img_to_display(filename)\n",
        "               , gender_icon\n",
        "               , gender\n",
        "               , \"{0:.2f}%\".format(round(max(prediction)*100,2))\n",
        "               , gender_target[target]\n",
        "               , filename.split('/')[-1]\n",
        "               )\n",
        "\n",
        "    display(HTML(display_html))"
      ],
      "execution_count": null,
      "outputs": []
    },
    {
      "cell_type": "code",
      "metadata": {
        "id": "rdAQg6oOcBCy"
      },
      "source": [
        "def gender_prediction(filename):\n",
        "    '''\n",
        "    predict the gender\n",
        "    \n",
        "    input:\n",
        "        filename: str of the file name\n",
        "        \n",
        "    return:\n",
        "        array of the prob of the targets.\n",
        "    \n",
        "    '''\n",
        "    \n",
        "    im = cv2.imread(filename)\n",
        "    im = cv2.resize(cv2.cvtColor(im, cv2.COLOR_BGR2RGB), (178, 218)).astype(np.float32) / 255.0\n",
        "    im = np.expand_dims(im, axis =0)\n",
        "    \n",
        "    # prediction\n",
        "    result = model_.predict(im)\n",
        "    prediction = np.argmax(result)\n",
        "    \n",
        "    return result"
      ],
      "execution_count": null,
      "outputs": []
    },
    {
      "cell_type": "code",
      "metadata": {
        "id": "NxzHhzsBcB-w"
      },
      "source": [
        "#select random images of the test partition\n",
        "df_to_test = df_par_attr[(df_par_attr['partition'] == 2)].sample(2)\n",
        "\n",
        "for index, target in df_to_test.iterrows():\n",
        "    result = gender_prediction(images_folder + index)\n",
        "    \n",
        "    #display result\n",
        "    display_result(images_folder + index, result[0], target['Male'])"
      ],
      "execution_count": null,
      "outputs": []
    }
  ]
}