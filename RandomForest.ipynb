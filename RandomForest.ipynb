{
  "nbformat": 4,
  "nbformat_minor": 0,
  "metadata": {
    "colab": {
      "name": "SVM.ipynb",
      "provenance": [],
      "collapsed_sections": [],
      "toc_visible": true
    },
    "kernelspec": {
      "name": "python3",
      "display_name": "Python 3",
      "language": "python"
    }
  },
  "cells": [
    {
      "cell_type": "markdown",
      "metadata": {
        "id": "Vkk5IylT9-iu"
      },
      "source": [
        "Import stuff"
      ]
    },
    {
      "cell_type": "code",
      "metadata": {
        "id": "3C6TJy0F6YGI"
      },
      "source": [
        "import pandas as pd\n",
        "import numpy as np\n",
        "from sklearn.ensemble import RandomForestClassifier\n",
        "from numpy.random import shuffle"
      ],
      "execution_count": 1,
      "outputs": []
    },
    {
      "cell_type": "markdown",
      "metadata": {
        "id": "ypQ5O8NA-BWx"
      },
      "source": [
        "# Load csv into variable for RandomForest "
      ]
    },
    {
      "cell_type": "code",
      "metadata": {
        "id": "xR2KeZDx9-FP"
      },
      "source": [
        "csv_train=pd.read_csv(\"D:\\DeepLearning_Project\\male_train.csv\")\n",
        "csv_val=pd.read_csv(\"D:\\DeepLearning_Project\\male_val.csv\")\n",
        "csv_test=pd.read_csv(\"D:\\DeepLearning_Project\\male_test.csv\")"
      ],
      "execution_count": 2,
      "outputs": []
    },
    {
      "cell_type": "code",
      "execution_count": 3,
      "metadata": {},
      "outputs": [
        {
          "output_type": "execute_result",
          "data": {
            "text/plain": [
              "<bound method NDFrame.head of             img_id  label\n",
              "0       000001.jpg    0.0\n",
              "1       000002.jpg    0.0\n",
              "2       000003.jpg    1.0\n",
              "3       000004.jpg    0.0\n",
              "4       000005.jpg    0.0\n",
              "...            ...    ...\n",
              "100025  100026.jpg    1.0\n",
              "100026  100027.jpg    1.0\n",
              "100027  100028.jpg    1.0\n",
              "100028  100029.jpg    0.0\n",
              "100029  100030.jpg    1.0\n",
              "\n",
              "[100030 rows x 2 columns]>"
            ]
          },
          "metadata": {},
          "execution_count": 3
        }
      ],
      "source": [
        "csv_train.iloc[:,[0,1]].head"
      ]
    },
    {
      "cell_type": "code",
      "metadata": {
        "colab": {
          "base_uri": "https://localhost:8080/"
        },
        "id": "FfGvojlNCE07",
        "outputId": "46d2d79e-e612-41f7-9ec1-524691bbf7dc"
      },
      "source": [
        "#test=raw_csv.iloc[:,[0,1,2,3]]\n",
        "#test.head\n",
        "\n",
        "#train\n",
        "label_train=csv_train.iloc[:19005 ,1]\n",
        "print(label_train)\n",
        "features_train=csv_train.iloc[:19005 ,2:]\n",
        "print(features_train)\n",
        "\n",
        "#val\n",
        "label_val=csv_val.iloc[:,1]\n",
        "features_val=csv_val.iloc[:,2:]\n",
        "\n",
        "\n",
        "#test\n",
        "label_test=csv_test.iloc[:,1]\n",
        "features_test=csv_test.iloc[:,2:]\n",
        "\n",
        "\n"
      ],
      "execution_count": 4,
      "outputs": [
        {
          "output_type": "stream",
          "name": "stdout",
          "text": [
            "0        0.0\n1        0.0\n2        1.0\n3        0.0\n4        0.0\n        ... \n19000    1.0\n19001    1.0\n19002    0.0\n19003    1.0\n19004    0.0\nName: label, Length: 19005, dtype: float64\n              1         2         3         4         5         6         7  \\\n0      0.557084  0.252211  0.008999  0.066110  0.096965  0.111431  0.163749   \n1      0.314816  0.164257  0.000000  0.033199  0.077633  0.106796  0.118920   \n2      0.009429  0.015390  0.063644  0.032670  0.039255  0.054827  0.003161   \n3      0.064597  0.030358  0.000000  0.085755  0.024191  0.120254  0.054144   \n4      0.372442  0.177001  0.005218  0.075809  0.119977  0.117167  0.143403   \n...         ...       ...       ...       ...       ...       ...       ...   \n19000  0.000000  0.000212  0.203364  0.085918  0.108082  0.116330  0.016732   \n19001  0.006393  0.000500  0.253303  0.082395  0.116125  0.117935  0.027378   \n19002  0.497030  0.249754  0.010572  0.068401  0.102759  0.103332  0.174137   \n19003  0.010460  0.006244  0.383294  0.069353  0.141986  0.106599  0.036804   \n19004  0.458783  0.256653  0.001251  0.071196  0.083089  0.142818  0.188627   \n\n              8         9        10  ...      2039      2040      2041  \\\n0      0.182992  0.009242  0.027351  ...  0.236769  0.005490  0.381109   \n1      0.159531  0.010990  0.011161  ...  0.153083  0.004022  0.394277   \n2      0.049692  0.035772  0.020966  ...  0.000000  0.003388  0.093809   \n3      0.039074  0.101468  0.002262  ...  0.000112  0.006643  0.018329   \n4      0.127014  0.047140  0.012273  ...  0.159743  0.017855  0.210387   \n...         ...       ...       ...  ...       ...       ...       ...   \n19000  0.006711  0.112446  0.133423  ...  0.021477  0.297980  0.086911   \n19001  0.016814  0.159186  0.189236  ...  0.036188  0.357346  0.053442   \n19002  0.143412  0.034198  0.020720  ...  0.236419  0.019050  0.294282   \n19003  0.026382  0.132356  0.286265  ...  0.063504  0.583916  0.107985   \n19004  0.175772  0.014001  0.023330  ...  0.191890  0.006276  0.371700   \n\n           2042      2043      2044      2045      2046      2047      2048  \n0      0.030590  0.265803  0.218944  0.159659  0.110384  0.052689  0.057892  \n1      0.000000  0.088054  0.209639  0.038059  0.053815  0.017837  0.011615  \n2      0.003992  0.000000  0.013822  0.000000  0.000000  0.017576  0.006541  \n3      0.000000  0.071378  0.028218  0.002556  0.001627  0.001398  0.000000  \n4      0.019539  0.220442  0.172117  0.106088  0.060425  0.049020  0.029114  \n...         ...       ...       ...       ...       ...       ...       ...  \n19000  0.349639  0.189045  0.006651  0.092300  0.047826  0.137983  0.000000  \n19001  0.531170  0.209361  0.000762  0.100084  0.107758  0.179595  0.000000  \n19002  0.043045  0.277576  0.195760  0.159779  0.098903  0.063487  0.040415  \n19003  0.785243  0.227848  0.010931  0.178816  0.174385  0.277103  0.000000  \n19004  0.027022  0.304402  0.248568  0.172590  0.094487  0.053939  0.032967  \n\n[19005 rows x 2048 columns]\n"
          ]
        }
      ]
    },
    {
      "cell_type": "code",
      "metadata": {
        "colab": {
          "base_uri": "https://localhost:8080/"
        },
        "id": "I1q9nlYKFpXV",
        "outputId": "a807eae6-be67-4959-caea-b28253e410a9"
      },
      "source": [
        "#convert dataframe to numpy for sklearn\n",
        "label_train.to_numpy\n",
        "features_train.to_numpy\n",
        "print(label_train)\n",
        "print(features_train)\n",
        "\n",
        "label_val.to_numpy\n",
        "features_val.to_numpy\n",
        "\n",
        "label_test.to_numpy\n",
        "features_test.to_numpy"
      ],
      "execution_count": 5,
      "outputs": [
        {
          "output_type": "stream",
          "name": "stdout",
          "text": [
            "0        0.0\n1        0.0\n2        1.0\n3        0.0\n4        0.0\n        ... \n19000    1.0\n19001    1.0\n19002    0.0\n19003    1.0\n19004    0.0\nName: label, Length: 19005, dtype: float64\n              1         2         3         4         5         6         7  \\\n0      0.557084  0.252211  0.008999  0.066110  0.096965  0.111431  0.163749   \n1      0.314816  0.164257  0.000000  0.033199  0.077633  0.106796  0.118920   \n2      0.009429  0.015390  0.063644  0.032670  0.039255  0.054827  0.003161   \n3      0.064597  0.030358  0.000000  0.085755  0.024191  0.120254  0.054144   \n4      0.372442  0.177001  0.005218  0.075809  0.119977  0.117167  0.143403   \n...         ...       ...       ...       ...       ...       ...       ...   \n19000  0.000000  0.000212  0.203364  0.085918  0.108082  0.116330  0.016732   \n19001  0.006393  0.000500  0.253303  0.082395  0.116125  0.117935  0.027378   \n19002  0.497030  0.249754  0.010572  0.068401  0.102759  0.103332  0.174137   \n19003  0.010460  0.006244  0.383294  0.069353  0.141986  0.106599  0.036804   \n19004  0.458783  0.256653  0.001251  0.071196  0.083089  0.142818  0.188627   \n\n              8         9        10  ...      2039      2040      2041  \\\n0      0.182992  0.009242  0.027351  ...  0.236769  0.005490  0.381109   \n1      0.159531  0.010990  0.011161  ...  0.153083  0.004022  0.394277   \n2      0.049692  0.035772  0.020966  ...  0.000000  0.003388  0.093809   \n3      0.039074  0.101468  0.002262  ...  0.000112  0.006643  0.018329   \n4      0.127014  0.047140  0.012273  ...  0.159743  0.017855  0.210387   \n...         ...       ...       ...  ...       ...       ...       ...   \n19000  0.006711  0.112446  0.133423  ...  0.021477  0.297980  0.086911   \n19001  0.016814  0.159186  0.189236  ...  0.036188  0.357346  0.053442   \n19002  0.143412  0.034198  0.020720  ...  0.236419  0.019050  0.294282   \n19003  0.026382  0.132356  0.286265  ...  0.063504  0.583916  0.107985   \n19004  0.175772  0.014001  0.023330  ...  0.191890  0.006276  0.371700   \n\n           2042      2043      2044      2045      2046      2047      2048  \n0      0.030590  0.265803  0.218944  0.159659  0.110384  0.052689  0.057892  \n1      0.000000  0.088054  0.209639  0.038059  0.053815  0.017837  0.011615  \n2      0.003992  0.000000  0.013822  0.000000  0.000000  0.017576  0.006541  \n3      0.000000  0.071378  0.028218  0.002556  0.001627  0.001398  0.000000  \n4      0.019539  0.220442  0.172117  0.106088  0.060425  0.049020  0.029114  \n...         ...       ...       ...       ...       ...       ...       ...  \n19000  0.349639  0.189045  0.006651  0.092300  0.047826  0.137983  0.000000  \n19001  0.531170  0.209361  0.000762  0.100084  0.107758  0.179595  0.000000  \n19002  0.043045  0.277576  0.195760  0.159779  0.098903  0.063487  0.040415  \n19003  0.785243  0.227848  0.010931  0.178816  0.174385  0.277103  0.000000  \n19004  0.027022  0.304402  0.248568  0.172590  0.094487  0.053939  0.032967  \n\n[19005 rows x 2048 columns]\n"
          ]
        },
        {
          "output_type": "execute_result",
          "data": {
            "text/plain": [
              "<bound method DataFrame.to_numpy of               1         2         3         4         5         6         7  \\\n",
              "0      0.380792  0.191110  0.010169  0.082999  0.109399  0.114407  0.145237   \n",
              "1      0.269279  0.136573  0.019469  0.097899  0.109911  0.122109  0.102215   \n",
              "2      0.537918  0.255431  0.008016  0.057511  0.105111  0.082237  0.198045   \n",
              "3      0.751757  0.380963  0.011228  0.067933  0.185232  0.113092  0.287222   \n",
              "4      0.255021  0.140689  0.000033  0.044739  0.040713  0.097824  0.099697   \n",
              "...         ...       ...       ...       ...       ...       ...       ...   \n",
              "19000  0.028712  0.009151  0.428833  0.064670  0.161068  0.087267  0.043873   \n",
              "19001  0.405236  0.230297  0.003339  0.057859  0.091663  0.110253  0.122793   \n",
              "19002  0.628407  0.316989  0.063090  0.061900  0.139599  0.111606  0.223082   \n",
              "19003  0.535407  0.272289  0.157938  0.057582  0.114383  0.110193  0.163621   \n",
              "19004  0.006391  0.000000  0.435918  0.086551  0.149229  0.109027  0.042905   \n",
              "\n",
              "              8         9        10  ...      2039      2040      2041  \\\n",
              "0      0.164109  0.015900  0.029060  ...  0.178519  0.027979  0.239750   \n",
              "1      0.144755  0.059685  0.011047  ...  0.090281  0.040204  0.120512   \n",
              "2      0.186456  0.020874  0.021229  ...  0.244476  0.034459  0.389071   \n",
              "3      0.197426  0.008583  0.054738  ...  0.409386  0.073307  0.444956   \n",
              "4      0.133420  0.019006  0.005667  ...  0.056182  0.006797  0.192709   \n",
              "...         ...       ...       ...  ...       ...       ...       ...   \n",
              "19000  0.054134  0.100075  0.317465  ...  0.099268  0.589466  0.127162   \n",
              "19001  0.187374  0.014555  0.012950  ...  0.173925  0.009244  0.357746   \n",
              "19002  0.181174  0.070483  0.079983  ...  0.361091  0.124750  0.349814   \n",
              "19003  0.184706  0.154482  0.160259  ...  0.317383  0.199518  0.299259   \n",
              "19004  0.049240  0.121054  0.307559  ...  0.081608  0.604051  0.120734   \n",
              "\n",
              "           2042      2043      2044      2045      2046      2047      2048  \n",
              "0      0.050203  0.180879  0.155382  0.133054  0.066578  0.048071  0.045066  \n",
              "1      0.033638  0.188144  0.101448  0.077073  0.060375  0.041968  0.011574  \n",
              "2      0.010662  0.361298  0.218651  0.157912  0.096325  0.072895  0.040555  \n",
              "3      0.254390  0.702434  0.271596  0.342406  0.186130  0.127513  0.087304  \n",
              "4      0.000000  0.101454  0.121470  0.051758  0.028658  0.014123  0.013492  \n",
              "...         ...       ...       ...       ...       ...       ...       ...  \n",
              "19000  0.809385  0.175980  0.023969  0.140186  0.217277  0.311716  0.001968  \n",
              "19001  0.003150  0.203546  0.193041  0.100928  0.087006  0.034364  0.027811  \n",
              "19002  0.157370  0.616633  0.243166  0.226736  0.201757  0.114404  0.112134  \n",
              "19003  0.146368  0.465090  0.184931  0.230981  0.254985  0.202069  0.195135  \n",
              "19004  0.819453  0.262922  0.013407  0.188163  0.218496  0.313068  0.000281  \n",
              "\n",
              "[19005 rows x 2048 columns]>"
            ]
          },
          "metadata": {},
          "execution_count": 5
        }
      ]
    },
    {
      "cell_type": "markdown",
      "metadata": {
        "id": "BAD_Tbc1Go_x"
      },
      "source": [
        "# RandomForest"
      ]
    },
    {
      "cell_type": "code",
      "execution_count": 6,
      "metadata": {},
      "outputs": [
        {
          "output_type": "stream",
          "name": "stdout",
          "text": [
            "18738\n",
            "19005\n",
            "training accuracy is:\n",
            "0.9859510655090765\n",
            "18675\n",
            "19005\n",
            "validation accuracy is:\n",
            "0.9826361483820047\n",
            "18736\n",
            "19005\n",
            "training accuracy is:\n",
            "0.985845830044725\n",
            "18675\n",
            "19005\n",
            "validation accuracy is:\n",
            "0.9826361483820047\n",
            "18742\n",
            "19005\n",
            "training accuracy is:\n",
            "0.9861615364377795\n",
            "18676\n",
            "19005\n",
            "validation accuracy is:\n",
            "0.9826887661141804\n",
            "18906\n",
            "19005\n",
            "training accuracy is:\n",
            "0.9947908445146014\n",
            "18678\n",
            "19005\n",
            "validation accuracy is:\n",
            "0.9827940015785319\n",
            "18735\n",
            "19005\n",
            "training accuracy is:\n",
            "0.9857932123125493\n",
            "18674\n",
            "19005\n",
            "validation accuracy is:\n",
            "0.982583530649829\n",
            "18732\n",
            "19005\n",
            "training accuracy is:\n",
            "0.9856353591160221\n",
            "18677\n",
            "19005\n",
            "validation accuracy is:\n",
            "0.9827413838463562\n",
            "18740\n",
            "19005\n",
            "training accuracy is:\n",
            "0.986056300973428\n",
            "18678\n",
            "19005\n",
            "validation accuracy is:\n",
            "0.9827940015785319\n",
            "18910\n",
            "19005\n",
            "training accuracy is:\n",
            "0.9950013154433044\n",
            "18666\n",
            "19005\n",
            "validation accuracy is:\n",
            "0.982162588792423\n",
            "18737\n",
            "19005\n",
            "training accuracy is:\n",
            "0.9858984477769008\n",
            "18678\n",
            "19005\n",
            "validation accuracy is:\n",
            "0.9827940015785319\n",
            "18733\n",
            "19005\n",
            "training accuracy is:\n",
            "0.9856879768481979\n",
            "18675\n",
            "19005\n",
            "validation accuracy is:\n",
            "0.9826361483820047\n",
            "18741\n",
            "19005\n",
            "training accuracy is:\n",
            "0.9861089187056038\n",
            "18676\n",
            "19005\n",
            "validation accuracy is:\n",
            "0.9826887661141804\n",
            "18921\n",
            "19005\n",
            "training accuracy is:\n",
            "0.9955801104972376\n",
            "18676\n",
            "19005\n",
            "validation accuracy is:\n",
            "0.9826887661141804\n",
            "18736\n",
            "19005\n",
            "training accuracy is:\n",
            "0.985845830044725\n",
            "18676\n",
            "19005\n",
            "validation accuracy is:\n",
            "0.9826887661141804\n",
            "18736\n",
            "19005\n",
            "training accuracy is:\n",
            "0.985845830044725\n",
            "18679\n",
            "19005\n",
            "validation accuracy is:\n",
            "0.9828466193107077\n",
            "18739\n",
            "19005\n",
            "training accuracy is:\n",
            "0.9860036832412523\n",
            "18679\n",
            "19005\n",
            "validation accuracy is:\n",
            "0.9828466193107077\n",
            "18923\n",
            "19005\n",
            "training accuracy is:\n",
            "0.9956853459615891\n",
            "18675\n",
            "19005\n",
            "validation accuracy is:\n",
            "0.9826361483820047\n",
            "18740\n",
            "19005\n",
            "training accuracy is:\n",
            "0.986056300973428\n",
            "18678\n",
            "19005\n",
            "validation accuracy is:\n",
            "0.9827940015785319\n",
            "18739\n",
            "19005\n",
            "training accuracy is:\n",
            "0.9860036832412523\n",
            "18679\n",
            "19005\n",
            "validation accuracy is:\n",
            "0.9828466193107077\n",
            "18746\n",
            "19005\n",
            "training accuracy is:\n",
            "0.9863720073664825\n",
            "18681\n",
            "19005\n",
            "validation accuracy is:\n",
            "0.9829518547750592\n",
            "18929\n",
            "19005\n",
            "training accuracy is:\n",
            "0.9960010523546435\n",
            "18672\n",
            "19005\n",
            "validation accuracy is:\n",
            "0.9824782951854775\n",
            "18740\n",
            "19005\n",
            "training accuracy is:\n",
            "0.986056300973428\n",
            "18676\n",
            "19005\n",
            "validation accuracy is:\n",
            "0.9826887661141804\n",
            "18738\n",
            "19005\n",
            "training accuracy is:\n",
            "0.9859510655090765\n",
            "18680\n",
            "19005\n",
            "validation accuracy is:\n",
            "0.9828992370428834\n",
            "18745\n",
            "19005\n",
            "training accuracy is:\n",
            "0.9863193896343068\n",
            "18684\n",
            "19005\n",
            "validation accuracy is:\n",
            "0.9831097079715865\n",
            "18929\n",
            "19005\n",
            "training accuracy is:\n",
            "0.9960010523546435\n",
            "18674\n",
            "19005\n",
            "validation accuracy is:\n",
            "0.982583530649829\n"
          ]
        }
      ],
      "source": [
        "max_features_list=[25,50,75,100,125,150]\n",
        "min_impurity_decrease_list=[0.1,0.01,0.001,0.0001]\n",
        "best_features=0\n",
        "best_min_impurity=0\n",
        "best_val=0\n",
        "for features in max_features_list:\n",
        "    for min_impurity in min_impurity_decrease_list:\n",
        "        clf = RandomForestClassifier(max_features=features,min_impurity_decrease=min_impurity)\n",
        "        clf.fit(features_train,label_train)\n",
        "        #train precision\n",
        "        pred=clf.predict(features_train)\n",
        "        print(np.sum(pred==label_train))\n",
        "        print(features_train.shape[0])\n",
        "        ###############################\n",
        "        print(\"training accuracy is:\")\n",
        "        accuracy=np.sum(pred==label_train)/features_train.shape[0]\n",
        "        print(accuracy)\n",
        "        \n",
        "        ###############################\n",
        "        #Validation accuracy check\n",
        "        pred=clf.predict(features_val)\n",
        "        print(np.sum(pred==label_val))\n",
        "        print(features_val.shape[0])\n",
        "        #precision\n",
        "        validation_accuracy=np.sum(pred==label_val)/features_val.shape[0]\n",
        "        print(\"validation accuracy is:\")\n",
        "        print(validation_accuracy)\n",
        "\n",
        "        if validation_accuracy>best_val:\n",
        "            best_val=validation_accuracy\n",
        "            best_min_impurity=min_impurity\n",
        "            best_features=features\n",
        "        \n",
        "\n",
        "\n",
        "\n",
        "        \n"
      ]
    },
    {
      "cell_type": "code",
      "execution_count": 7,
      "metadata": {},
      "outputs": [
        {
          "output_type": "stream",
          "name": "stdout",
          "text": [
            "best validation accuracy is: 0.9831097079715865\nbest number of features is: 150\nbest min impurity decrease is: 0.001\n"
          ]
        }
      ],
      "source": [
        "print(\"best validation accuracy is: \" + str(best_val))\n",
        "print(\"best number of features is: \" + str(best_features))\n",
        "print(\"best min impurity decrease is: \" + str(best_min_impurity))"
      ]
    },
    {
      "cell_type": "code",
      "metadata": {
        "id": "bTfEn-zNF8Ss"
      },
      "source": [
        "clf = RandomForestClassifier(max_features=best_features,min_impurity_decrease=best_min_impurity)"
      ],
      "execution_count": 8,
      "outputs": []
    },
    {
      "cell_type": "code",
      "metadata": {
        "colab": {
          "base_uri": "https://localhost:8080/"
        },
        "id": "-vffqHe-Gnxe",
        "outputId": "ced16c58-56de-4bd5-d05b-520069cbe41b"
      },
      "source": [
        "#train\n",
        "clf.fit(features_train,label_train)\n",
        "\n",
        "#train precision\n",
        "pred=clf.predict(features_train)\n",
        "print(np.sum(pred==label_train))\n",
        "print(features_train.shape[0])\n",
        "###############################\n",
        "print(np.sum(pred==label_train)/features_train.shape[0])"
      ],
      "execution_count": 9,
      "outputs": [
        {
          "output_type": "stream",
          "name": "stdout",
          "text": [
            "18747\n19005\n0.9864246250986582\n"
          ]
        }
      ]
    },
    {
      "cell_type": "code",
      "metadata": {
        "colab": {
          "base_uri": "https://localhost:8080/"
        },
        "id": "5nL-y8OKLI8g",
        "outputId": "e96be6cd-769f-4a50-b47f-34c01ae690a5"
      },
      "source": [
        "#validation\n",
        "pred=clf.predict(features_val)\n",
        "print(np.sum(pred==label_val))\n",
        "print(features_val.shape[0])\n",
        "#precision\n",
        "print(np.sum(pred==label_val)/features_val.shape[0])"
      ],
      "execution_count": 10,
      "outputs": [
        {
          "output_type": "stream",
          "name": "stdout",
          "text": [
            "18680\n19005\n0.9828992370428834\n"
          ]
        }
      ]
    },
    {
      "cell_type": "code",
      "execution_count": 11,
      "metadata": {},
      "outputs": [
        {
          "output_type": "stream",
          "name": "stdout",
          "text": [
            "18550\n19005\n0.9760589318600368\n"
          ]
        }
      ],
      "source": [
        "##test\n",
        "pred=clf.predict(features_test)\n",
        "print(np.sum(pred==label_test))\n",
        "print(features_test.shape[0])\n",
        "#precision\n",
        "print(np.sum(pred==label_test)/features_test.shape[0])"
      ]
    },
    {
      "cell_type": "code",
      "execution_count": null,
      "metadata": {},
      "outputs": [],
      "source": []
    }
  ]
}