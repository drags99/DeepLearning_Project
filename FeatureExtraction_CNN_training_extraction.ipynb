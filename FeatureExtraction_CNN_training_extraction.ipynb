{
 "cells": [
  {
   "cell_type": "code",
   "execution_count": null,
   "metadata": {},
   "outputs": [],
   "source": [
    "import torch\n",
    "from torch.utils.data import DataLoader\n",
    "from torchvision import transforms\n",
    "import numpy as np\n",
    "from custom_dataset import Binary_Dataset\n",
    "from matplotlib import pyplot as plt\n",
    "from PIL import Image\n",
    "import os\n",
    "from inception import inception_v3\n",
    "from Trainer import train_loop\n",
    "from torch.optim import Adam\n",
    "import pandas as pd\n",
    "\n",
    "%matplotlib inline\n",
    "torch.cuda.empty_cache()"
   ]
  },
  {
   "cell_type": "markdown",
   "metadata": {},
   "source": [
    "# Define directories, transformations, and labels\n"
   ]
  },
  {
   "cell_type": "code",
   "execution_count": null,
   "metadata": {
    "tags": []
   },
   "outputs": [],
   "source": [
    "#define relevant paths\n",
    "labels_dir=\"Data\\list_attr_celeba.csv\"\n",
    "image_dir=\"Data\\img_align_celeba\\img_align_celeba\"\n",
    "\n",
    "##############################################define num workers for data laoders here\n",
    "workers=4\n",
    "\n",
    "#define composed transforms\n",
    "composed = transforms.Compose([\n",
    "    transforms.ToPILImage(),\n",
    "    transforms.Resize([299,299]),\n",
    "    transforms.ToTensor(),\n",
    "    transforms.Normalize(mean=[0.485, 0.456, 0.406], std=[0.229, 0.224, 0.225])\n",
    "    ])\n",
    "\n",
    "\n",
    "labels=[\"Male\",\"Smiling\",\"Wavy_Hair\"]\n",
    "label_number=0\n"
   ]
  },
  {
   "cell_type": "markdown",
   "metadata": {},
   "source": [
    "# Load CNN's"
   ]
  },
  {
   "cell_type": "code",
   "execution_count": null,
   "metadata": {},
   "outputs": [],
   "source": [
    "device = torch.device(\"cuda:0\" if torch.cuda.is_available() else \"cpu\")\n",
    "model=inception_v3().to(device)"
   ]
  },
  {
   "cell_type": "code",
   "execution_count": null,
   "metadata": {
    "scrolled": true
   },
   "outputs": [],
   "source": [
    "model.load_state_dict(torch.load('12_9_5e.pt'))\n",
    "model.eval()"
   ]
  },
  {
   "cell_type": "markdown",
   "metadata": {},
   "source": [
    "# Feature Extractions"
   ]
  },
  {
   "cell_type": "code",
   "execution_count": null,
   "metadata": {
    "scrolled": true,
    "tags": []
   },
   "outputs": [],
   "source": [
    "# feature extraction for training\n",
    "#check feature extrcation\n",
    "\n",
    "# 162770\n",
    "# 19867\n",
    "# 19962\n",
    "\n",
    "bathsize = 35\n",
    "FE_ds=Binary_Dataset(labels_dir, labels[label_number],image_dir ,transform=composed, partition=\"Train\")\n",
    "FE_loader=DataLoader(FE_ds,batch_size=bathsize, shuffle=False, num_workers=workers)\n",
    "\n",
    "device = 'cuda'\n",
    "\n",
    "FE_data=iter(FE_loader)\n",
    "\n",
    "#model=model.to(device)\n",
    "\n",
    "model.eval()\n",
    "\n",
    "correct=0\n",
    "train_tested_samples=0\n",
    "limit=100000\n",
    "\n",
    "\n",
    "l = ['label']\n",
    "range_int = range(1,2049)\n",
    "r = [str(x) for x in range_int]\n",
    "col = l + r   \n",
    "px = pd.DataFrame(columns = col)  \n",
    "px.to_csv('Male_train.csv', mode='a', index=False, header=True) ##################change csv name\n",
    "    \n",
    "    \n",
    "for data in FE_data:\n",
    "    sample, target = data\n",
    "    \n",
    "    #send to device\n",
    "    sample=sample.to(device)\n",
    "    target=target.to(device)\n",
    "    \n",
    "    output, extraction = model(sample)\n",
    "    \n",
    "#     print(output.shape)\n",
    "#     print(extraction.shape)\n",
    "#     print(extraction)\n",
    "    \n",
    "    #rediction, extraction = output\n",
    "        \n",
    "    target_val = target.cpu().detach().numpy()\n",
    "    #label_val = np.reshape(target_val, (50,1))\n",
    "    \n",
    "#     print(target_val.shape)\n",
    "    #print(label_val)    \n",
    "    extract = extraction.cpu().detach().numpy()\n",
    "    \n",
    "\n",
    "    data = np.insert(extract, 0, target_val, axis = 1)\n",
    "#     print(data.shape)\n",
    "#     print(data)\n",
    "    data = np.reshape(data, (bathsize, 2049))\n",
    " \n",
    "    px = pd.DataFrame(data) \n",
    "    px.to_csv('Male_train.csv', mode='a', index=False, header=False)   ######################csv name \n",
    "        \n",
    "    \n",
    "    pred=torch.argmax(output,dim=1,keepdim=True)\n",
    "\n",
    "    correct+=torch.eq(pred,target.view_as(pred)).sum()\n",
    "    train_tested_samples+=pred.size()[0]\n",
    "    if train_tested_samples>limit:\n",
    "        break\n",
    "\n",
    "    print(correct)\n",
    "    print(train_tested_samples)\n",
    "\n",
    "#print precision\n",
    "print(correct.item()/train_tested_samples)\n",
    "print(train_tested_samples)"
   ]
  },
  {
   "cell_type": "code",
   "execution_count": null,
   "metadata": {
    "scrolled": true,
    "tags": []
   },
   "outputs": [],
   "source": [
    "\n",
    "#validation feature extraction \n",
    "\n",
    "# 162770\n",
    "# 19867\n",
    "# 19962\n",
    "\n",
    "bathsize = 35\n",
    "FE_ds=Binary_Dataset(labels_dir, labels[label_number],image_dir ,transform=composed, partition=\"Val\")\n",
    "FE_loader=DataLoader(FE_ds,batch_size=bathsize, shuffle=False, num_workers=workers)\n",
    "\n",
    "device = 'cuda'\n",
    "\n",
    "FE_data=iter(FE_loader)\n",
    "\n",
    "#model=model.to(device)\n",
    "\n",
    "model.eval()\n",
    "\n",
    "correct=0\n",
    "val_tested_samples=0\n",
    "limit=19000\n",
    "\n",
    "\n",
    "l = ['label']\n",
    "range_int = range(1,2049)\n",
    "r = [str(x) for x in range_int]\n",
    "col = l + r   \n",
    "px = pd.DataFrame(columns = col)  \n",
    "px.to_csv('male_val_img.csv', mode='a', index=False, header=True)  ##################change csv name\n",
    "    \n",
    "    \n",
    "for data in FE_data:\n",
    "    sample, target = data\n",
    "    \n",
    "    #send to device\n",
    "    sample=sample.to(device)\n",
    "    target=target.to(device)\n",
    "    \n",
    "    output, extraction = model(sample)\n",
    "    \n",
    "#     print(output.shape)\n",
    "#     print(extraction.shape)\n",
    "#     print(extraction)\n",
    "    \n",
    "    #rediction, extraction = output\n",
    "        \n",
    "    target_val = target.cpu().detach().numpy()\n",
    "    #label_val = np.reshape(target_val, (50,1))\n",
    "    \n",
    "#     print(target_val.shape)\n",
    "    #print(label_val)    \n",
    "    extract = extraction.cpu().detach().numpy()\n",
    "    \n",
    "\n",
    "    data = np.insert(extract, 0, target_val, axis = 1)\n",
    "#     print(data.shape)\n",
    "#     print(data)\n",
    "    data = np.reshape(data, (bathsize, 2049))\n",
    " \n",
    "    px = pd.DataFrame(data) \n",
    "\n",
    "    px.to_csv('male_val_img.csv', mode='a', index=False, header=False)  ##################change csv name  \n",
    "        \n",
    "    \n",
    "    pred=torch.argmax(output,dim=1,keepdim=True)\n",
    "\n",
    "    correct+=torch.eq(pred,target.view_as(pred)).sum()\n",
    "    val_tested_samples+=pred.size()[0]\n",
    "    if val_tested_samples>limit:\n",
    "        break\n",
    "\n",
    "    print(correct)\n",
    "    print(val_tested_samples)\n",
    "\n",
    "#print precision\n",
    "print(correct.item()/val_tested_samples)\n",
    "print(val_tested_samples)"
   ]
  },
  {
   "cell_type": "code",
   "execution_count": null,
   "metadata": {
    "scrolled": true
   },
   "outputs": [],
   "source": [
    "#test feature extraction \n",
    "\n",
    "bathsize = 35\n",
    "FE_ds=Binary_Dataset(labels_dir, labels[label_number],image_dir ,transform=composed, partition=\"Test\")\n",
    "FE_loader=DataLoader(FE_ds,batch_size=bathsize, shuffle=False, num_workers=workers)\n",
    "\n",
    "device = 'cuda'\n",
    "\n",
    "FE_data=iter(FE_loader)\n",
    "\n",
    "#model=model.to(device)\n",
    "\n",
    "model.eval()\n",
    "\n",
    "correct=0\n",
    "test_tested_samples=0\n",
    "limit=19000\n",
    "\n",
    "\n",
    "l = ['label']\n",
    "range_int = range(1,2049)\n",
    "r = [str(x) for x in range_int]\n",
    "col = l + r   \n",
    "px = pd.DataFrame(columns = col)  \n",
    "px.to_csv('male_test_img.csv', mode='a', index=False, header=True)    ##################change csv name\n",
    "    \n",
    "    \n",
    "for data in FE_data:\n",
    "    sample, target = data\n",
    "    \n",
    "    #send to device\n",
    "    sample=sample.to(device)\n",
    "    target=target.to(device)\n",
    "    \n",
    "    output, extraction = model(sample)\n",
    "    \n",
    "#     print(output.shape)\n",
    "#     print(extraction.shape)\n",
    "#     print(extraction)\n",
    "    \n",
    "    #rediction, extraction = output\n",
    "        \n",
    "    target_val = target.cpu().detach().numpy()\n",
    "    #label_val = np.reshape(target_val, (50,1))\n",
    "    \n",
    "#     print(target_val.shape)\n",
    "    #print(label_val)    \n",
    "    extract = extraction.cpu().detach().numpy()\n",
    "    \n",
    "\n",
    "    data = np.insert(extract, 0, target_val, axis = 1)\n",
    "#     print(data.shape)\n",
    "#     print(data)\n",
    "    val_data = np.reshape(data, (bathsize, 2049))\n",
    " \n",
    "    px = pd.DataFrame(val_data) \n",
    "\n",
    "    px.to_csv('male_test_img.csv', mode='a', index=False, header=False)   ##################change csv name\n",
    "        \n",
    "    \n",
    "    pred=torch.argmax(output,dim=1,keepdim=True)\n",
    "\n",
    "    correct+=torch.eq(pred,target.view_as(pred)).sum()\n",
    "    test_tested_samples+=pred.size()[0]\n",
    "    if test_tested_samples>limit:\n",
    "        break\n",
    "\n",
    "    print(correct)\n",
    "    print(test_tested_samples)\n",
    "\n",
    "\n",
    "#print precision\n",
    "print(correct.item()/test_tested_samples)\n",
    "print(test_tested_samples)"
   ]
  },
  {
   "cell_type": "code",
   "execution_count": null,
   "metadata": {},
   "outputs": [],
   "source": [
    "# this is just used to check the output \n",
    "\n",
    "df_attr_train=pd.read_csv(labels_dir, nrows = train_tested_samples, usecols=[\"image_id\",labels[label_number]]) \n",
    "# df_attr_val=pd.read_csv(labels_dir, skiprows = [i for i in range(1,162771)], nrows = val_tested_samples, usecols=[\"image_id\",labels[label_number]])\n",
    "# df_attr_test=pd.read_csv(labels_dir, skiprows = [i for i in range(1,182638)], nrows = test_tested_samples, usecols=[\"image_id\",labels[label_number]])\n",
    "\n",
    "# #change -1 to 0 in csv, remove this if not needed\n",
    "df_attr_train.replace(-1,0,inplace=True)\n",
    "#df_attr_val.replace(-1,0,inplace=True)\n",
    "# df_attr_test.replace(-1,0,inplace=True)\n",
    "\n"
   ]
  },
  {
   "cell_type": "code",
   "execution_count": null,
   "metadata": {},
   "outputs": [],
   "source": [
    "df_attr_train.info()"
   ]
  },
  {
   "cell_type": "code",
   "execution_count": null,
   "metadata": {
    "scrolled": true
   },
   "outputs": [],
   "source": [
    "df_attr_train.head(n=37)"
   ]
  },
  {
   "cell_type": "code",
   "execution_count": null,
   "metadata": {
    "scrolled": true
   },
   "outputs": [],
   "source": [
    "df_attr_train.tail(n=15)"
   ]
  },
  {
   "cell_type": "code",
   "execution_count": null,
   "metadata": {},
   "outputs": [],
   "source": [
    "df_attr_train=pd.read_csv(labels_dir, nrows = 100030, usecols=[\"image_id\"]) \n",
    "train_imgs = df_attr_train.to_numpy()\n",
    "traindata = pd.read_csv('smile_train_img.csv')\n",
    "traindata.insert(0, 'img_id', train_imgs)\n",
    "traindata.to_csv('smile_train.csv', mode='a', index=False)\n",
    "\n",
    "# df_attr_val=pd.read_csv(labels_dir, skiprows = [i for i in range(1,162771)], nrows = val_tested_samples, usecols=[\"image_id\"])\n",
    "# val_imgs = df_attr_val.to_numpy()\n",
    "# valdata = pd.read_csv('smile_val_img.csv')\n",
    "# #valdata.insert(0, 'label_from_csv', val_imgs[:,1])\n",
    "# valdata.insert(0, 'img_id', val_imgs[:,0])\n",
    "# valdata.to_csv('smile_val.csv', mode='a', index=False)\n",
    "\n",
    "\n",
    "# df_attr_test=pd.read_csv(labels_dir, skiprows = [i for i in range(1,182638)], nrows = test_tested_samples, usecols=[\"image_id\"])\n",
    "# test_imgs = df_attr_test.to_numpy()\n",
    "# testdata = pd.read_csv('smile_test_img.csv')\n",
    "# testdata.insert(0, 'img name', test_imgs)\n",
    "# testdata.to_csv('smile_test.csv', mode='a', index=False)"
   ]
  },
  {
   "cell_type": "code",
   "execution_count": null,
   "metadata": {},
   "outputs": [],
   "source": [
    "traindata = pd.read_csv('smile_train_img.csv')"
   ]
  },
  {
   "cell_type": "code",
   "execution_count": null,
   "metadata": {},
   "outputs": [],
   "source": [
    "traindata.info()"
   ]
  },
  {
   "cell_type": "code",
   "execution_count": null,
   "metadata": {},
   "outputs": [],
   "source": []
  }
 ],
 "metadata": {
  "kernelspec": {
   "display_name": "Python 3",
   "language": "python",
   "name": "python3"
  },
  "language_info": {
   "codemirror_mode": {
    "name": "ipython",
    "version": 3
   },
   "file_extension": ".py",
   "mimetype": "text/x-python",
   "name": "python",
   "nbconvert_exporter": "python",
   "pygments_lexer": "ipython3",
   "version": "3.8.3"
  }
 },
 "nbformat": 4,
 "nbformat_minor": 2
}