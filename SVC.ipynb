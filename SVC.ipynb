{
  "nbformat": 4,
  "nbformat_minor": 0,
  "metadata": {
    "colab": {
      "name": "SVM.ipynb",
      "provenance": [],
      "collapsed_sections": [],
      "toc_visible": true
    },
    "kernelspec": {
      "name": "python3",
      "display_name": "Python 3",
      "language": "python"
    }
  },
  "cells": [
    {
      "cell_type": "markdown",
      "metadata": {
        "id": "Vkk5IylT9-iu"
      },
      "source": [
        "Import stuff"
      ]
    },
    {
      "cell_type": "code",
      "metadata": {
        "id": "3C6TJy0F6YGI"
      },
      "source": [
        "import pandas as pd\r\n",
        "import numpy as np\r\n",
        "from sklearn.svm import LinearSVC\r\n",
        "from numpy.random import shuffle"
      ],
      "execution_count": 1,
      "outputs": []
    },
    {
      "cell_type": "markdown",
      "metadata": {
        "id": "ypQ5O8NA-BWx"
      },
      "source": [
        "# Load csv into variable for SVM "
      ]
    },
    {
      "cell_type": "code",
      "metadata": {
        "id": "xR2KeZDx9-FP"
      },
      "source": [
        "raw_csv=pd.read_csv(\"D:\\DeepLearning_Project\\smile_val.csv\")\n"
      ],
      "execution_count": 2,
      "outputs": []
    },
    {
      "cell_type": "code",
      "execution_count": 3,
      "metadata": {},
      "outputs": [
        {
          "output_type": "execute_result",
          "data": {
            "text/plain": [
              "<bound method NDFrame.head of                 0      1\n",
              "0          img_id  label\n",
              "1      162771.jpg    1.0\n",
              "2      162772.jpg    1.0\n",
              "3      162773.jpg    0.0\n",
              "4      162774.jpg    1.0\n",
              "...           ...    ...\n",
              "19001  181771.jpg      0\n",
              "19002  181772.jpg      0\n",
              "19003  181773.jpg      0\n",
              "19004  181774.jpg      0\n",
              "19005  181775.jpg      0\n",
              "\n",
              "[19006 rows x 2 columns]>"
            ]
          },
          "metadata": {},
          "execution_count": 3
        }
      ],
      "source": [
        "raw_csv.iloc[:,[0,1]].head"
      ]
    },
    {
      "cell_type": "code",
      "metadata": {
        "colab": {
          "base_uri": "https://localhost:8080/"
        },
        "id": "FfGvojlNCE07",
        "outputId": "46d2d79e-e612-41f7-9ec1-524691bbf7dc"
      },
      "source": [
        "#test=raw_csv.iloc[:,[0,1,2,3]]\n",
        "#test.head\n",
        "\n",
        "label=raw_csv.iloc[:,1]\n",
        "print(label)\n",
        "\n",
        "features=raw_csv.iloc[:,2:]\n",
        "print(features)\n",
        "\n",
        "\n",
        "\n",
        "#val_gender=raw_csv.iloc[1001:2000,2]\n",
        "#print(gender)\n",
        "\n",
        "#val_features=raw_csv.iloc[0:1000,[4,5,6,7]]\n",
        "#print(features)"
      ],
      "execution_count": 4,
      "outputs": [
        {
          "output_type": "stream",
          "name": "stdout",
          "text": [
            "0        label\n1          1.0\n2          1.0\n3          0.0\n4          1.0\n         ...  \n19001        0\n19002        0\n19003        0\n19004        0\n19005        0\nName: 1, Length: 19006, dtype: object\n           2         3         4         5         6         7         8     \\\n0      1.000000  2.000000  3.000000  4.000000  5.000000  6.000000  7.000000   \n1      0.279588  0.174760  0.048988  0.038297  0.015005  0.201334  0.019272   \n2      0.271718  0.137789  0.019903  0.020726  0.049970  0.092327  0.085396   \n3      0.189315  0.135101  0.022064  0.024472  0.010792  0.253524  0.037128   \n4      0.211627  0.171204  0.037520  0.005435  0.023336  0.196410  0.070132   \n...         ...       ...       ...       ...       ...       ...       ...   \n19001  0.186300  0.128830  0.028984  0.025097  0.015085  0.103785  0.052613   \n19002  0.161842  0.096286  0.027772  0.062685  0.015481  0.168561  0.045516   \n19003  0.192848  0.203138  0.054554  0.009482  0.015643  0.101798  0.068676   \n19004  0.260893  0.108175  0.045432  0.018361  0.062320  0.173122  0.154092   \n19005  0.206194  0.112572  0.070914  0.045133  0.037268  0.205504  0.053530   \n\n           9         10         11    ...         2040         2041  \\\n0      8.000000  9.000000  10.000000  ...  2039.000000  2040.000000   \n1      0.142828  0.039774   0.275751  ...     0.449517     0.026978   \n2      0.225338  0.124888   0.208649  ...     0.222058     0.017908   \n3      0.090564  0.022380   0.227261  ...     0.329024     0.016366   \n4      0.171894  0.028418   0.263326  ...     0.569567     0.075520   \n...         ...       ...        ...  ...          ...          ...   \n19001  0.138769  0.084439   0.208797  ...     0.307727     0.040449   \n19002  0.087505  0.018381   0.220364  ...     0.283685     0.017024   \n19003  0.159526  0.068059   0.193445  ...     0.377821     0.047793   \n19004  0.176652  0.107340   0.183021  ...     0.016631     0.101434   \n19005  0.145734  0.062329   0.233375  ...     0.383237     0.022885   \n\n              2042         2043         2044         2045         2046  \\\n0      2041.000000  2042.000000  2043.000000  2044.000000  2045.000000   \n1         0.158247     0.101894     0.021444     0.182999     0.158039   \n2         0.029545     0.162045     0.026000     0.232077     0.251943   \n3         0.057235     0.221247     0.012125     0.184228     0.303883   \n4         0.100099     0.157727     0.002244     0.231751     0.153392   \n...            ...          ...          ...          ...          ...   \n19001     0.009512     0.214296     0.029957     0.239199     0.133918   \n19002     0.141770     0.197132     0.044395     0.175122     0.252988   \n19003     0.015370     0.152951     0.002959     0.180785     0.126403   \n19004     0.001044     0.210048     0.059644     0.176686     0.064636   \n19005     0.082081     0.058814     0.025017     0.153294     0.281835   \n\n              2047         2048         2049  \n0      2046.000000  2047.000000  2048.000000  \n1         0.375031     0.002007     0.000000  \n2         0.091156     0.006370     0.002655  \n3         0.270417     0.000592     0.001850  \n4         0.254663     0.000000     0.000000  \n...            ...          ...          ...  \n19001     0.211081     0.000000     0.000585  \n19002     0.385097     0.004713     0.000000  \n19003     0.235233     0.000000     0.000000  \n19004     0.082692     0.007556     0.004109  \n19005     0.251722     0.000620     0.000060  \n\n[19006 rows x 2048 columns]\n"
          ]
        }
      ]
    },
    {
      "cell_type": "code",
      "metadata": {
        "colab": {
          "base_uri": "https://localhost:8080/"
        },
        "id": "I1q9nlYKFpXV",
        "outputId": "a807eae6-be67-4959-caea-b28253e410a9"
      },
      "source": [
        "#convert dataframe to numpy for sklearn\n",
        "label.to_numpy\n",
        "features.to_numpy\n",
        "print(label)\n",
        "print(features)"
      ],
      "execution_count": 5,
      "outputs": [
        {
          "output_type": "stream",
          "name": "stdout",
          "text": [
            "0        label\n1          1.0\n2          1.0\n3          0.0\n4          1.0\n         ...  \n19001        0\n19002        0\n19003        0\n19004        0\n19005        0\nName: 1, Length: 19006, dtype: object\n           2         3         4         5         6         7         8     \\\n0      1.000000  2.000000  3.000000  4.000000  5.000000  6.000000  7.000000   \n1      0.279588  0.174760  0.048988  0.038297  0.015005  0.201334  0.019272   \n2      0.271718  0.137789  0.019903  0.020726  0.049970  0.092327  0.085396   \n3      0.189315  0.135101  0.022064  0.024472  0.010792  0.253524  0.037128   \n4      0.211627  0.171204  0.037520  0.005435  0.023336  0.196410  0.070132   \n...         ...       ...       ...       ...       ...       ...       ...   \n19001  0.186300  0.128830  0.028984  0.025097  0.015085  0.103785  0.052613   \n19002  0.161842  0.096286  0.027772  0.062685  0.015481  0.168561  0.045516   \n19003  0.192848  0.203138  0.054554  0.009482  0.015643  0.101798  0.068676   \n19004  0.260893  0.108175  0.045432  0.018361  0.062320  0.173122  0.154092   \n19005  0.206194  0.112572  0.070914  0.045133  0.037268  0.205504  0.053530   \n\n           9         10         11    ...         2040         2041  \\\n0      8.000000  9.000000  10.000000  ...  2039.000000  2040.000000   \n1      0.142828  0.039774   0.275751  ...     0.449517     0.026978   \n2      0.225338  0.124888   0.208649  ...     0.222058     0.017908   \n3      0.090564  0.022380   0.227261  ...     0.329024     0.016366   \n4      0.171894  0.028418   0.263326  ...     0.569567     0.075520   \n...         ...       ...        ...  ...          ...          ...   \n19001  0.138769  0.084439   0.208797  ...     0.307727     0.040449   \n19002  0.087505  0.018381   0.220364  ...     0.283685     0.017024   \n19003  0.159526  0.068059   0.193445  ...     0.377821     0.047793   \n19004  0.176652  0.107340   0.183021  ...     0.016631     0.101434   \n19005  0.145734  0.062329   0.233375  ...     0.383237     0.022885   \n\n              2042         2043         2044         2045         2046  \\\n0      2041.000000  2042.000000  2043.000000  2044.000000  2045.000000   \n1         0.158247     0.101894     0.021444     0.182999     0.158039   \n2         0.029545     0.162045     0.026000     0.232077     0.251943   \n3         0.057235     0.221247     0.012125     0.184228     0.303883   \n4         0.100099     0.157727     0.002244     0.231751     0.153392   \n...            ...          ...          ...          ...          ...   \n19001     0.009512     0.214296     0.029957     0.239199     0.133918   \n19002     0.141770     0.197132     0.044395     0.175122     0.252988   \n19003     0.015370     0.152951     0.002959     0.180785     0.126403   \n19004     0.001044     0.210048     0.059644     0.176686     0.064636   \n19005     0.082081     0.058814     0.025017     0.153294     0.281835   \n\n              2047         2048         2049  \n0      2046.000000  2047.000000  2048.000000  \n1         0.375031     0.002007     0.000000  \n2         0.091156     0.006370     0.002655  \n3         0.270417     0.000592     0.001850  \n4         0.254663     0.000000     0.000000  \n...            ...          ...          ...  \n19001     0.211081     0.000000     0.000585  \n19002     0.385097     0.004713     0.000000  \n19003     0.235233     0.000000     0.000000  \n19004     0.082692     0.007556     0.004109  \n19005     0.251722     0.000620     0.000060  \n\n[19006 rows x 2048 columns]\n"
          ]
        }
      ]
    },
    {
      "cell_type": "markdown",
      "metadata": {
        "id": "BAD_Tbc1Go_x"
      },
      "source": [
        "# SVM"
      ]
    },
    {
      "cell_type": "code",
      "metadata": {
        "id": "bTfEn-zNF8Ss"
      },
      "source": [
        "clf = LinearSVC()"
      ],
      "execution_count": 6,
      "outputs": []
    },
    {
      "cell_type": "code",
      "metadata": {
        "colab": {
          "base_uri": "https://localhost:8080/"
        },
        "id": "-vffqHe-Gnxe",
        "outputId": "ced16c58-56de-4bd5-d05b-520069cbe41b"
      },
      "source": [
        "#train\n",
        "clf.fit(features,label)"
      ],
      "execution_count": 7,
      "outputs": [
        {
          "output_type": "error",
          "ename": "TypeError",
          "evalue": "'<' not supported between instances of 'float' and 'str'",
          "traceback": [
            "\u001b[1;31m---------------------------------------------------------------------------\u001b[0m",
            "\u001b[1;31mTypeError\u001b[0m                                 Traceback (most recent call last)",
            "\u001b[1;32m<ipython-input-7-00d948de10d9>\u001b[0m in \u001b[0;36m<module>\u001b[1;34m\u001b[0m\n\u001b[0;32m      1\u001b[0m \u001b[1;31m#train\u001b[0m\u001b[1;33m\u001b[0m\u001b[1;33m\u001b[0m\u001b[1;33m\u001b[0m\u001b[0m\n\u001b[1;32m----> 2\u001b[1;33m \u001b[0mclf\u001b[0m\u001b[1;33m.\u001b[0m\u001b[0mfit\u001b[0m\u001b[1;33m(\u001b[0m\u001b[0mfeatures\u001b[0m\u001b[1;33m,\u001b[0m\u001b[0mlabel\u001b[0m\u001b[1;33m)\u001b[0m\u001b[1;33m\u001b[0m\u001b[1;33m\u001b[0m\u001b[0m\n\u001b[0m",
            "\u001b[1;32m~\\anaconda3\\envs\\Pytorch_env\\lib\\site-packages\\sklearn\\svm\\_classes.py\u001b[0m in \u001b[0;36mfit\u001b[1;34m(self, X, y, sample_weight)\u001b[0m\n\u001b[0;32m    228\u001b[0m                                    \u001b[0mdtype\u001b[0m\u001b[1;33m=\u001b[0m\u001b[0mnp\u001b[0m\u001b[1;33m.\u001b[0m\u001b[0mfloat64\u001b[0m\u001b[1;33m,\u001b[0m \u001b[0morder\u001b[0m\u001b[1;33m=\u001b[0m\u001b[1;34m\"C\"\u001b[0m\u001b[1;33m,\u001b[0m\u001b[1;33m\u001b[0m\u001b[1;33m\u001b[0m\u001b[0m\n\u001b[0;32m    229\u001b[0m                                    accept_large_sparse=False)\n\u001b[1;32m--> 230\u001b[1;33m         \u001b[0mcheck_classification_targets\u001b[0m\u001b[1;33m(\u001b[0m\u001b[0my\u001b[0m\u001b[1;33m)\u001b[0m\u001b[1;33m\u001b[0m\u001b[1;33m\u001b[0m\u001b[0m\n\u001b[0m\u001b[0;32m    231\u001b[0m         \u001b[0mself\u001b[0m\u001b[1;33m.\u001b[0m\u001b[0mclasses_\u001b[0m \u001b[1;33m=\u001b[0m \u001b[0mnp\u001b[0m\u001b[1;33m.\u001b[0m\u001b[0munique\u001b[0m\u001b[1;33m(\u001b[0m\u001b[0my\u001b[0m\u001b[1;33m)\u001b[0m\u001b[1;33m\u001b[0m\u001b[1;33m\u001b[0m\u001b[0m\n\u001b[0;32m    232\u001b[0m \u001b[1;33m\u001b[0m\u001b[0m\n",
            "\u001b[1;32m~\\anaconda3\\envs\\Pytorch_env\\lib\\site-packages\\sklearn\\utils\\multiclass.py\u001b[0m in \u001b[0;36mcheck_classification_targets\u001b[1;34m(y)\u001b[0m\n\u001b[0;32m    167\u001b[0m     \u001b[0my\u001b[0m \u001b[1;33m:\u001b[0m \u001b[0marray\u001b[0m\u001b[1;33m-\u001b[0m\u001b[0mlike\u001b[0m\u001b[1;33m\u001b[0m\u001b[1;33m\u001b[0m\u001b[0m\n\u001b[0;32m    168\u001b[0m     \"\"\"\n\u001b[1;32m--> 169\u001b[1;33m     \u001b[0my_type\u001b[0m \u001b[1;33m=\u001b[0m \u001b[0mtype_of_target\u001b[0m\u001b[1;33m(\u001b[0m\u001b[0my\u001b[0m\u001b[1;33m)\u001b[0m\u001b[1;33m\u001b[0m\u001b[1;33m\u001b[0m\u001b[0m\n\u001b[0m\u001b[0;32m    170\u001b[0m     if y_type not in ['binary', 'multiclass', 'multiclass-multioutput',\n\u001b[0;32m    171\u001b[0m                       'multilabel-indicator', 'multilabel-sequences']:\n",
            "\u001b[1;32m~\\anaconda3\\envs\\Pytorch_env\\lib\\site-packages\\sklearn\\utils\\multiclass.py\u001b[0m in \u001b[0;36mtype_of_target\u001b[1;34m(y)\u001b[0m\n\u001b[0;32m    288\u001b[0m         \u001b[1;32mreturn\u001b[0m \u001b[1;34m'continuous'\u001b[0m \u001b[1;33m+\u001b[0m \u001b[0msuffix\u001b[0m\u001b[1;33m\u001b[0m\u001b[1;33m\u001b[0m\u001b[0m\n\u001b[0;32m    289\u001b[0m \u001b[1;33m\u001b[0m\u001b[0m\n\u001b[1;32m--> 290\u001b[1;33m     \u001b[1;32mif\u001b[0m \u001b[1;33m(\u001b[0m\u001b[0mlen\u001b[0m\u001b[1;33m(\u001b[0m\u001b[0mnp\u001b[0m\u001b[1;33m.\u001b[0m\u001b[0munique\u001b[0m\u001b[1;33m(\u001b[0m\u001b[0my\u001b[0m\u001b[1;33m)\u001b[0m\u001b[1;33m)\u001b[0m \u001b[1;33m>\u001b[0m \u001b[1;36m2\u001b[0m\u001b[1;33m)\u001b[0m \u001b[1;32mor\u001b[0m \u001b[1;33m(\u001b[0m\u001b[0my\u001b[0m\u001b[1;33m.\u001b[0m\u001b[0mndim\u001b[0m \u001b[1;33m>=\u001b[0m \u001b[1;36m2\u001b[0m \u001b[1;32mand\u001b[0m \u001b[0mlen\u001b[0m\u001b[1;33m(\u001b[0m\u001b[0my\u001b[0m\u001b[1;33m[\u001b[0m\u001b[1;36m0\u001b[0m\u001b[1;33m]\u001b[0m\u001b[1;33m)\u001b[0m \u001b[1;33m>\u001b[0m \u001b[1;36m1\u001b[0m\u001b[1;33m)\u001b[0m\u001b[1;33m:\u001b[0m\u001b[1;33m\u001b[0m\u001b[1;33m\u001b[0m\u001b[0m\n\u001b[0m\u001b[0;32m    291\u001b[0m         \u001b[1;32mreturn\u001b[0m \u001b[1;34m'multiclass'\u001b[0m \u001b[1;33m+\u001b[0m \u001b[0msuffix\u001b[0m  \u001b[1;31m# [1, 2, 3] or [[1., 2., 3]] or [[1, 2]]\u001b[0m\u001b[1;33m\u001b[0m\u001b[1;33m\u001b[0m\u001b[0m\n\u001b[0;32m    292\u001b[0m     \u001b[1;32melse\u001b[0m\u001b[1;33m:\u001b[0m\u001b[1;33m\u001b[0m\u001b[1;33m\u001b[0m\u001b[0m\n",
            "\u001b[1;32m<__array_function__ internals>\u001b[0m in \u001b[0;36munique\u001b[1;34m(*args, **kwargs)\u001b[0m\n",
            "\u001b[1;32m~\\anaconda3\\envs\\Pytorch_env\\lib\\site-packages\\numpy\\lib\\arraysetops.py\u001b[0m in \u001b[0;36munique\u001b[1;34m(ar, return_index, return_inverse, return_counts, axis)\u001b[0m\n\u001b[0;32m    259\u001b[0m     \u001b[0mar\u001b[0m \u001b[1;33m=\u001b[0m \u001b[0mnp\u001b[0m\u001b[1;33m.\u001b[0m\u001b[0masanyarray\u001b[0m\u001b[1;33m(\u001b[0m\u001b[0mar\u001b[0m\u001b[1;33m)\u001b[0m\u001b[1;33m\u001b[0m\u001b[1;33m\u001b[0m\u001b[0m\n\u001b[0;32m    260\u001b[0m     \u001b[1;32mif\u001b[0m \u001b[0maxis\u001b[0m \u001b[1;32mis\u001b[0m \u001b[1;32mNone\u001b[0m\u001b[1;33m:\u001b[0m\u001b[1;33m\u001b[0m\u001b[1;33m\u001b[0m\u001b[0m\n\u001b[1;32m--> 261\u001b[1;33m         \u001b[0mret\u001b[0m \u001b[1;33m=\u001b[0m \u001b[0m_unique1d\u001b[0m\u001b[1;33m(\u001b[0m\u001b[0mar\u001b[0m\u001b[1;33m,\u001b[0m \u001b[0mreturn_index\u001b[0m\u001b[1;33m,\u001b[0m \u001b[0mreturn_inverse\u001b[0m\u001b[1;33m,\u001b[0m \u001b[0mreturn_counts\u001b[0m\u001b[1;33m)\u001b[0m\u001b[1;33m\u001b[0m\u001b[1;33m\u001b[0m\u001b[0m\n\u001b[0m\u001b[0;32m    262\u001b[0m         \u001b[1;32mreturn\u001b[0m \u001b[0m_unpack_tuple\u001b[0m\u001b[1;33m(\u001b[0m\u001b[0mret\u001b[0m\u001b[1;33m)\u001b[0m\u001b[1;33m\u001b[0m\u001b[1;33m\u001b[0m\u001b[0m\n\u001b[0;32m    263\u001b[0m \u001b[1;33m\u001b[0m\u001b[0m\n",
            "\u001b[1;32m~\\anaconda3\\envs\\Pytorch_env\\lib\\site-packages\\numpy\\lib\\arraysetops.py\u001b[0m in \u001b[0;36m_unique1d\u001b[1;34m(ar, return_index, return_inverse, return_counts)\u001b[0m\n\u001b[0;32m    320\u001b[0m         \u001b[0maux\u001b[0m \u001b[1;33m=\u001b[0m \u001b[0mar\u001b[0m\u001b[1;33m[\u001b[0m\u001b[0mperm\u001b[0m\u001b[1;33m]\u001b[0m\u001b[1;33m\u001b[0m\u001b[1;33m\u001b[0m\u001b[0m\n\u001b[0;32m    321\u001b[0m     \u001b[1;32melse\u001b[0m\u001b[1;33m:\u001b[0m\u001b[1;33m\u001b[0m\u001b[1;33m\u001b[0m\u001b[0m\n\u001b[1;32m--> 322\u001b[1;33m         \u001b[0mar\u001b[0m\u001b[1;33m.\u001b[0m\u001b[0msort\u001b[0m\u001b[1;33m(\u001b[0m\u001b[1;33m)\u001b[0m\u001b[1;33m\u001b[0m\u001b[1;33m\u001b[0m\u001b[0m\n\u001b[0m\u001b[0;32m    323\u001b[0m         \u001b[0maux\u001b[0m \u001b[1;33m=\u001b[0m \u001b[0mar\u001b[0m\u001b[1;33m\u001b[0m\u001b[1;33m\u001b[0m\u001b[0m\n\u001b[0;32m    324\u001b[0m     \u001b[0mmask\u001b[0m \u001b[1;33m=\u001b[0m \u001b[0mnp\u001b[0m\u001b[1;33m.\u001b[0m\u001b[0mempty\u001b[0m\u001b[1;33m(\u001b[0m\u001b[0maux\u001b[0m\u001b[1;33m.\u001b[0m\u001b[0mshape\u001b[0m\u001b[1;33m,\u001b[0m \u001b[0mdtype\u001b[0m\u001b[1;33m=\u001b[0m\u001b[0mnp\u001b[0m\u001b[1;33m.\u001b[0m\u001b[0mbool_\u001b[0m\u001b[1;33m)\u001b[0m\u001b[1;33m\u001b[0m\u001b[1;33m\u001b[0m\u001b[0m\n",
            "\u001b[1;31mTypeError\u001b[0m: '<' not supported between instances of 'float' and 'str'"
          ]
        }
      ]
    },
    {
      "cell_type": "code",
      "metadata": {
        "colab": {
          "base_uri": "https://localhost:8080/"
        },
        "id": "5nL-y8OKLI8g",
        "outputId": "e96be6cd-769f-4a50-b47f-34c01ae690a5"
      },
      "source": [
        "check=clf.predict(features)\n",
        "print(np.sum(check==label))\n",
        "print(features.shape[0])\n",
        "#precision\n",
        "print(np.sum(check==label)/features.shape[0])"
      ],
      "execution_count": 15,
      "outputs": [
        {
          "output_type": "stream",
          "name": "stdout",
          "text": [
            "14762\n19005\n0.7767429623783215\n"
          ]
        }
      ]
    },
    {
      "cell_type": "code",
      "execution_count": null,
      "metadata": {},
      "outputs": [],
      "source": []
    }
  ]
}