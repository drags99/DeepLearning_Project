{
  "nbformat": 4,
  "nbformat_minor": 0,
  "metadata": {
    "colab": {
      "name": "SVM.ipynb",
      "provenance": [],
      "collapsed_sections": [],
      "toc_visible": true
    },
    "kernelspec": {
      "name": "python3",
      "display_name": "Python 3"
    }
  },
  "cells": [
    {
      "cell_type": "markdown",
      "metadata": {
        "id": "Vkk5IylT9-iu"
      },
      "source": [
        "Import stuff"
      ]
    },
    {
      "cell_type": "code",
      "metadata": {
        "id": "3C6TJy0F6YGI"
      },
      "source": [
        "import pandas as pd\r\n",
        "import numpy as np\r\n",
        "from sklearn.svm import LinearSVC\r\n",
        "from numpy.random import shuffle"
      ],
      "execution_count": 1,
      "outputs": []
    },
    {
      "cell_type": "markdown",
      "metadata": {
        "id": "ypQ5O8NA-BWx"
      },
      "source": [
        "# Load csv into variable for SVM "
      ]
    },
    {
      "cell_type": "code",
      "metadata": {
        "id": "xR2KeZDx9-FP"
      },
      "source": [
        "raw_csv=pd.read_csv(\"/content/drive/MyDrive/Colab Notebooks/SVM Test/Speed Dating Data.csv\",encoding= 'unicode_escape')\r\n",
        "#link to dataset https://www.kaggle.com/annavictoria/speed-dating-experiment"
      ],
      "execution_count": 2,
      "outputs": []
    },
    {
      "cell_type": "code",
      "metadata": {
        "colab": {
          "base_uri": "https://localhost:8080/"
        },
        "id": "FfGvojlNCE07",
        "outputId": "46d2d79e-e612-41f7-9ec1-524691bbf7dc"
      },
      "source": [
        "#test=raw_csv.iloc[:,[0,1,2,3]]\r\n",
        "#test.head\r\n",
        "\r\n",
        "gender=raw_csv.iloc[:,2].fillna(0)\r\n",
        "print(gender)\r\n",
        "\r\n",
        "features=raw_csv.iloc[:,[4,5,6,7,9,10,11,12]].fillna(0)\r\n",
        "print(features)\r\n",
        "\r\n",
        "\r\n",
        "\r\n",
        "#val_gender=raw_csv.iloc[1001:2000,2]\r\n",
        "#print(gender)\r\n",
        "\r\n",
        "#val_features=raw_csv.iloc[0:1000,[4,5,6,7]]\r\n",
        "#print(features)"
      ],
      "execution_count": 4,
      "outputs": [
        {
          "output_type": "stream",
          "text": [
            "0       0\n",
            "1       0\n",
            "2       0\n",
            "3       0\n",
            "4       0\n",
            "       ..\n",
            "8373    1\n",
            "8374    1\n",
            "8375    1\n",
            "8376    1\n",
            "8377    1\n",
            "Name: gender, Length: 8378, dtype: int64\n",
            "      condtn  wave  round  position  order  partner    pid  match\n",
            "0          1     1     10         7      4        1   11.0      0\n",
            "1          1     1     10         7      3        2   12.0      0\n",
            "2          1     1     10         7     10        3   13.0      1\n",
            "3          1     1     10         7      5        4   14.0      1\n",
            "4          1     1     10         7      7        5   15.0      1\n",
            "...      ...   ...    ...       ...    ...      ...    ...    ...\n",
            "8373       2    21     22        14      5       18  526.0      0\n",
            "8374       2    21     22        13      4       19  527.0      0\n",
            "8375       2    21     22        19     10       20  528.0      0\n",
            "8376       2    21     22         3     16       21  529.0      0\n",
            "8377       2    21     22         2     15       22  530.0      0\n",
            "\n",
            "[8378 rows x 8 columns]\n"
          ],
          "name": "stdout"
        }
      ]
    },
    {
      "cell_type": "code",
      "metadata": {
        "colab": {
          "base_uri": "https://localhost:8080/"
        },
        "id": "I1q9nlYKFpXV",
        "outputId": "a807eae6-be67-4959-caea-b28253e410a9"
      },
      "source": [
        "#convert dataframe to numpy for sklearn\r\n",
        "gender.to_numpy\r\n",
        "features.to_numpy\r\n",
        "print(gender)"
      ],
      "execution_count": 5,
      "outputs": [
        {
          "output_type": "stream",
          "text": [
            "0       0\n",
            "1       0\n",
            "2       0\n",
            "3       0\n",
            "4       0\n",
            "       ..\n",
            "8373    1\n",
            "8374    1\n",
            "8375    1\n",
            "8376    1\n",
            "8377    1\n",
            "Name: gender, Length: 8378, dtype: int64\n"
          ],
          "name": "stdout"
        }
      ]
    },
    {
      "cell_type": "markdown",
      "metadata": {
        "id": "BAD_Tbc1Go_x"
      },
      "source": [
        "# SVM"
      ]
    },
    {
      "cell_type": "code",
      "metadata": {
        "id": "bTfEn-zNF8Ss"
      },
      "source": [
        "clf = LinearSVC()"
      ],
      "execution_count": 6,
      "outputs": []
    },
    {
      "cell_type": "code",
      "metadata": {
        "colab": {
          "base_uri": "https://localhost:8080/"
        },
        "id": "-vffqHe-Gnxe",
        "outputId": "ced16c58-56de-4bd5-d05b-520069cbe41b"
      },
      "source": [
        "#train\r\n",
        "clf.fit(features,gender)"
      ],
      "execution_count": 7,
      "outputs": [
        {
          "output_type": "stream",
          "text": [
            "/usr/local/lib/python3.6/dist-packages/sklearn/svm/_base.py:947: ConvergenceWarning: Liblinear failed to converge, increase the number of iterations.\n",
            "  \"the number of iterations.\", ConvergenceWarning)\n"
          ],
          "name": "stderr"
        },
        {
          "output_type": "execute_result",
          "data": {
            "text/plain": [
              "LinearSVC(C=1.0, class_weight=None, dual=True, fit_intercept=True,\n",
              "          intercept_scaling=1, loss='squared_hinge', max_iter=1000,\n",
              "          multi_class='ovr', penalty='l2', random_state=None, tol=0.0001,\n",
              "          verbose=0)"
            ]
          },
          "metadata": {
            "tags": []
          },
          "execution_count": 7
        }
      ]
    },
    {
      "cell_type": "code",
      "metadata": {
        "colab": {
          "base_uri": "https://localhost:8080/"
        },
        "id": "5nL-y8OKLI8g",
        "outputId": "e96be6cd-769f-4a50-b47f-34c01ae690a5"
      },
      "source": [
        "check=clf.predict(features)\r\n",
        "print(np.sum(check==gender))\r\n",
        "print(features.shape[0])\r\n",
        "#precision\r\n",
        "print(np.sum(check==gender)/features.shape[0])"
      ],
      "execution_count": 11,
      "outputs": [
        {
          "output_type": "stream",
          "text": [
            "6257\n",
            "8378\n",
            "0.7468369539269515\n"
          ],
          "name": "stdout"
        }
      ]
    }
  ]
}