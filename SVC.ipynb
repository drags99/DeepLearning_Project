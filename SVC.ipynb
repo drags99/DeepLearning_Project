{
  "nbformat": 4,
  "nbformat_minor": 0,
  "metadata": {
    "colab": {
      "name": "SVM.ipynb",
      "provenance": [],
      "collapsed_sections": [],
      "toc_visible": true
    },
    "kernelspec": {
      "name": "python3",
      "display_name": "Python 3",
      "language": "python"
    }
  },
  "cells": [
    {
      "cell_type": "markdown",
      "metadata": {
        "id": "Vkk5IylT9-iu"
      },
      "source": [
        "Import stuff"
      ]
    },
    {
      "cell_type": "code",
      "metadata": {
        "id": "3C6TJy0F6YGI"
      },
      "source": [
        "import pandas as pd\r\n",
        "import numpy as np\r\n",
        "from sklearn.svm import LinearSVC\r\n",
        "from numpy.random import shuffle"
      ],
      "execution_count": 1,
      "outputs": []
    },
    {
      "cell_type": "markdown",
      "metadata": {
        "id": "ypQ5O8NA-BWx"
      },
      "source": [
        "# Load csv into variable for SVM "
      ]
    },
    {
      "cell_type": "code",
      "metadata": {
        "id": "xR2KeZDx9-FP"
      },
      "source": [
        "raw_csv=pd.read_csv(\"D:\\DeepLearning_Project\\smile_val.csv\")\n"
      ],
      "execution_count": 2,
      "outputs": []
    },
    {
      "cell_type": "code",
      "execution_count": 3,
      "metadata": {},
      "outputs": [
        {
          "output_type": "execute_result",
          "data": {
            "text/plain": [
              "<bound method NDFrame.head of            img_id  label\n",
              "0      162771.jpg    1.0\n",
              "1      162772.jpg    1.0\n",
              "2      162773.jpg    0.0\n",
              "3      162774.jpg    1.0\n",
              "4      162775.jpg    0.0\n",
              "...           ...    ...\n",
              "19000  181771.jpg    0.0\n",
              "19001  181772.jpg    0.0\n",
              "19002  181773.jpg    0.0\n",
              "19003  181774.jpg    0.0\n",
              "19004  181775.jpg    0.0\n",
              "\n",
              "[19005 rows x 2 columns]>"
            ]
          },
          "metadata": {},
          "execution_count": 3
        }
      ],
      "source": [
        "raw_csv.iloc[:,[0,1]].head"
      ]
    },
    {
      "cell_type": "code",
      "metadata": {
        "colab": {
          "base_uri": "https://localhost:8080/"
        },
        "id": "FfGvojlNCE07",
        "outputId": "46d2d79e-e612-41f7-9ec1-524691bbf7dc"
      },
      "source": [
        "#test=raw_csv.iloc[:,[0,1,2,3]]\n",
        "#test.head\n",
        "\n",
        "label=raw_csv.iloc[:,1]\n",
        "print(label)\n",
        "\n",
        "features=raw_csv.iloc[:,2:]\n",
        "print(features)\n",
        "\n",
        "\n",
        "\n",
        "#val_gender=raw_csv.iloc[1001:2000,2]\n",
        "#print(gender)\n",
        "\n",
        "#val_features=raw_csv.iloc[0:1000,[4,5,6,7]]\n",
        "#print(features)"
      ],
      "execution_count": 8,
      "outputs": [
        {
          "output_type": "stream",
          "name": "stdout",
          "text": [
            "0        1.0\n1        1.0\n2        0.0\n3        1.0\n4        0.0\n        ... \n19000    0.0\n19001    0.0\n19002    0.0\n19003    0.0\n19004    0.0\nName: label, Length: 19005, dtype: float64\n              1         2         3         4         5         6         7  \\\n0      0.279588  0.174760  0.048988  0.038297  0.015005  0.201334  0.019272   \n1      0.271718  0.137789  0.019903  0.020726  0.049970  0.092327  0.085396   \n2      0.189315  0.135101  0.022064  0.024472  0.010792  0.253524  0.037128   \n3      0.211627  0.171204  0.037520  0.005435  0.023336  0.196410  0.070132   \n4      0.155306  0.080679  2.610738  4.401188  4.547996  0.139255  2.899848   \n...         ...       ...       ...       ...       ...       ...       ...   \n19000  0.186300  0.128830  0.028984  0.025097  0.015085  0.103785  0.052613   \n19001  0.161842  0.096286  0.027772  0.062685  0.015481  0.168561  0.045516   \n19002  0.192848  0.203138  0.054554  0.009482  0.015643  0.101798  0.068676   \n19003  0.260893  0.108175  0.045432  0.018361  0.062320  0.173122  0.154092   \n19004  0.206194  0.112572  0.070914  0.045133  0.037268  0.205504  0.053530   \n\n              8         9        10  ...      2039      2040      2041  \\\n0      0.142828  0.039774  0.275751  ...  0.449517  0.026978  0.158247   \n1      0.225338  0.124888  0.208649  ...  0.222058  0.017908  0.029545   \n2      0.090564  0.022380  0.227261  ...  0.329024  0.016366  0.057235   \n3      0.171894  0.028418  0.263326  ...  0.569567  0.075520  0.100099   \n4      0.249689  2.833286  0.036533  ...  0.342079  4.288578  2.986899   \n...         ...       ...       ...  ...       ...       ...       ...   \n19000  0.138769  0.084439  0.208797  ...  0.307727  0.040449  0.009512   \n19001  0.087505  0.018381  0.220364  ...  0.283685  0.017024  0.141770   \n19002  0.159526  0.068059  0.193445  ...  0.377821  0.047793  0.015370   \n19003  0.176652  0.107340  0.183021  ...  0.016631  0.101434  0.001044   \n19004  0.145734  0.062329  0.233375  ...  0.383237  0.022885  0.082081   \n\n           2042      2043      2044      2045      2046      2047      2048  \n0      0.101894  0.021444  0.182999  0.158039  0.375031  0.002007  0.000000  \n1      0.162045  0.026000  0.232077  0.251943  0.091156  0.006370  0.002655  \n2      0.221247  0.012125  0.184228  0.303883  0.270417  0.000592  0.001850  \n3      0.157727  0.002244  0.231751  0.153392  0.254663  0.000000  0.000000  \n4      0.003112  4.724525  0.006336  0.000408  0.000283  4.848176  4.239859  \n...         ...       ...       ...       ...       ...       ...       ...  \n19000  0.214296  0.029957  0.239199  0.133918  0.211081  0.000000  0.000585  \n19001  0.197132  0.044395  0.175122  0.252988  0.385097  0.004713  0.000000  \n19002  0.152951  0.002959  0.180785  0.126403  0.235233  0.000000  0.000000  \n19003  0.210048  0.059644  0.176686  0.064636  0.082692  0.007556  0.004109  \n19004  0.058814  0.025017  0.153294  0.281835  0.251722  0.000620  0.000060  \n\n[19005 rows x 2048 columns]\n"
          ]
        }
      ]
    },
    {
      "cell_type": "code",
      "metadata": {
        "colab": {
          "base_uri": "https://localhost:8080/"
        },
        "id": "I1q9nlYKFpXV",
        "outputId": "a807eae6-be67-4959-caea-b28253e410a9"
      },
      "source": [
        "#convert dataframe to numpy for sklearn\n",
        "label.to_numpy\n",
        "features.to_numpy\n",
        "print(label)"
      ],
      "execution_count": 9,
      "outputs": [
        {
          "output_type": "stream",
          "name": "stdout",
          "text": [
            "0        1.0\n1        1.0\n2        0.0\n3        1.0\n4        0.0\n        ... \n19000    0.0\n19001    0.0\n19002    0.0\n19003    0.0\n19004    0.0\nName: label, Length: 19005, dtype: float64\n"
          ]
        }
      ]
    },
    {
      "cell_type": "markdown",
      "metadata": {
        "id": "BAD_Tbc1Go_x"
      },
      "source": [
        "# SVM"
      ]
    },
    {
      "cell_type": "code",
      "metadata": {
        "id": "bTfEn-zNF8Ss"
      },
      "source": [
        "clf = LinearSVC()"
      ],
      "execution_count": 10,
      "outputs": []
    },
    {
      "cell_type": "code",
      "metadata": {
        "colab": {
          "base_uri": "https://localhost:8080/"
        },
        "id": "-vffqHe-Gnxe",
        "outputId": "ced16c58-56de-4bd5-d05b-520069cbe41b"
      },
      "source": [
        "#train\n",
        "clf.fit(features,label)"
      ],
      "execution_count": 12,
      "outputs": [
        {
          "output_type": "execute_result",
          "data": {
            "text/plain": [
              "LinearSVC()"
            ]
          },
          "metadata": {},
          "execution_count": 12
        }
      ]
    },
    {
      "cell_type": "code",
      "metadata": {
        "colab": {
          "base_uri": "https://localhost:8080/"
        },
        "id": "5nL-y8OKLI8g",
        "outputId": "e96be6cd-769f-4a50-b47f-34c01ae690a5"
      },
      "source": [
        "check=clf.predict(features)\n",
        "print(np.sum(check==label))\n",
        "print(features.shape[0])\n",
        "#precision\n",
        "print(np.sum(check==label)/features.shape[0])"
      ],
      "execution_count": 15,
      "outputs": [
        {
          "output_type": "stream",
          "name": "stdout",
          "text": [
            "14762\n19005\n0.7767429623783215\n"
          ]
        }
      ]
    },
    {
      "cell_type": "code",
      "execution_count": null,
      "metadata": {},
      "outputs": [],
      "source": []
    }
  ]
}