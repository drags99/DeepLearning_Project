{
 "metadata": {
  "language_info": {
   "codemirror_mode": {
    "name": "ipython",
    "version": 3
   },
   "file_extension": ".py",
   "mimetype": "text/x-python",
   "name": "python",
   "nbconvert_exporter": "python",
   "pygments_lexer": "ipython3",
   "version": "3.7.9-final"
  },
  "orig_nbformat": 2,
  "kernelspec": {
   "name": "python3",
   "display_name": "Python 3.7.9 64-bit ('Pytorch_env': conda)",
   "metadata": {
    "interpreter": {
     "hash": "90f45fad97555647c9233ba46f2815deee92b7f3d6d05a82d573d3a42defc1ab"
    }
   }
  }
 },
 "nbformat": 4,
 "nbformat_minor": 2,
 "cells": [
  {
   "cell_type": "code",
   "execution_count": 8,
   "metadata": {},
   "outputs": [],
   "source": [
    "import torch\n",
    "from torch.utils.data import DataLoader\n",
    "from torchvision import transforms\n",
    "import numpy as np\n",
    "from custom_dataset import Binary_Dataset\n",
    "from matplotlib import pyplot as plt\n",
    "from PIL import Image\n",
    "import os\n",
    "import pandas as pd\n",
    "from skimage import io\n",
    "%matplotlib inline"
   ]
  },
  {
   "cell_type": "code",
   "execution_count": 2,
   "metadata": {
    "tags": []
   },
   "outputs": [
    {
     "output_type": "stream",
     "name": "stdout",
     "text": [
      "tensor([[[[138, 139, 160],\n          [138, 139, 160],\n          [138, 139, 160],\n          ...,\n          [ 78,  91, 143],\n          [ 76,  92, 143],\n          [ 76,  92, 143]],\n\n         [[138, 139, 160],\n          [138, 139, 160],\n          [138, 139, 160],\n          ...,\n          [ 78,  91, 143],\n          [ 76,  92, 143],\n          [ 76,  92, 143]],\n\n         [[138, 139, 160],\n          [138, 139, 160],\n          [138, 139, 160],\n          ...,\n          [ 78,  91, 143],\n          [ 76,  92, 143],\n          [ 76,  92, 143]],\n\n         ...,\n\n         [[ 13,  16,  31],\n          [ 11,  14,  29],\n          [ 10,  13,  28],\n          ...,\n          [ 23,  25,  46],\n          [ 24,  27,  44],\n          [ 24,  27,  44]],\n\n         [[ 13,  16,  31],\n          [ 13,  16,  31],\n          [ 13,  16,  31],\n          ...,\n          [ 27,  29,  50],\n          [ 25,  28,  45],\n          [ 25,  28,  45]],\n\n         [[ 13,  16,  31],\n          [ 13,  16,  31],\n          [ 13,  16,  31],\n          ...,\n          [ 23,  26,  45],\n          [ 23,  26,  43],\n          [ 23,  26,  43]]],\n\n\n        [[[238, 217, 160],\n          [237, 216, 159],\n          [235, 214, 157],\n          ...,\n          [248, 228, 159],\n          [201, 178, 108],\n          [180, 157,  87]],\n\n         [[239, 218, 161],\n          [237, 216, 159],\n          [236, 215, 158],\n          ...,\n          [248, 228, 159],\n          [229, 206, 136],\n          [213, 190, 120]],\n\n         [[240, 219, 162],\n          [239, 218, 161],\n          [237, 216, 159],\n          ...,\n          [246, 225, 158],\n          [244, 221, 151],\n          [235, 212, 142]],\n\n         ...,\n\n         [[226, 220, 208],\n          [225, 219, 207],\n          [224, 218, 204],\n          ...,\n          [ 64,  47,  31],\n          [ 66,  50,  24],\n          [ 58,  42,  16]],\n\n         [[227, 221, 209],\n          [226, 220, 208],\n          [225, 219, 205],\n          ...,\n          [ 51,  34,  18],\n          [ 50,  34,   8],\n          [ 50,  34,   8]],\n\n         [[227, 221, 209],\n          [226, 220, 208],\n          [225, 219, 205],\n          ...,\n          [ 51,  34,  18],\n          [ 48,  32,   7],\n          [ 48,  32,   7]]],\n\n\n        [[[ 19,  19,  21],\n          [ 19,  19,  21],\n          [ 18,  18,  20],\n          ...,\n          [ 17,  17,  19],\n          [ 18,  18,  20],\n          [ 18,  18,  20]],\n\n         [[ 19,  19,  21],\n          [ 19,  19,  21],\n          [ 18,  18,  20],\n          ...,\n          [ 17,  17,  19],\n          [ 18,  18,  20],\n          [ 18,  18,  20]],\n\n         [[ 19,  19,  21],\n          [ 19,  19,  21],\n          [ 18,  18,  20],\n          ...,\n          [ 17,  17,  19],\n          [ 18,  18,  20],\n          [ 18,  18,  20]],\n\n         ...,\n\n         [[ 22,  20,  21],\n          [ 23,  21,  22],\n          [ 23,  21,  22],\n          ...,\n          [ 13,  11,  12],\n          [ 19,  17,  20],\n          [ 20,  18,  21]],\n\n         [[ 23,  21,  22],\n          [ 23,  21,  22],\n          [ 22,  20,  21],\n          ...,\n          [ 13,  11,  12],\n          [ 20,  18,  21],\n          [ 20,  18,  21]],\n\n         [[ 23,  21,  22],\n          [ 23,  21,  22],\n          [ 22,  20,  21],\n          ...,\n          [ 13,  11,  12],\n          [ 20,  18,  21],\n          [ 20,  18,  21]]],\n\n\n        ...,\n\n\n        [[[ 14,  15,   7],\n          [ 14,  15,   7],\n          [ 14,  15,   7],\n          ...,\n          [ 10,  11,   5],\n          [ 14,  13,   8],\n          [ 14,  13,   8]],\n\n         [[ 14,  15,   7],\n          [ 14,  15,   7],\n          [ 14,  15,   7],\n          ...,\n          [ 10,  11,   5],\n          [ 14,  13,   8],\n          [ 14,  13,   8]],\n\n         [[ 14,  15,   7],\n          [ 14,  15,   7],\n          [ 14,  15,   7],\n          ...,\n          [ 10,  11,   5],\n          [ 14,  13,   8],\n          [ 14,  13,   8]],\n\n         ...,\n\n         [[184, 147, 103],\n          [186, 149, 105],\n          [198, 161, 117],\n          ...,\n          [115,  80,  50],\n          [121,  86,  48],\n          [121,  86,  48]],\n\n         [[188, 154, 109],\n          [212, 178, 133],\n          [225, 192, 147],\n          ...,\n          [130,  96,  68],\n          [123,  89,  52],\n          [123,  89,  52]],\n\n         [[235, 202, 157],\n          [242, 209, 164],\n          [228, 197, 151],\n          ...,\n          [129,  95,  67],\n          [132, 100,  62],\n          [132, 100,  62]]],\n\n\n        [[[233, 235, 234],\n          [233, 235, 234],\n          [233, 235, 234],\n          ...,\n          [227, 229, 228],\n          [227, 229, 228],\n          [227, 229, 228]],\n\n         [[233, 235, 234],\n          [233, 235, 234],\n          [233, 235, 234],\n          ...,\n          [227, 229, 228],\n          [227, 229, 228],\n          [227, 229, 228]],\n\n         [[233, 235, 234],\n          [233, 235, 234],\n          [233, 235, 234],\n          ...,\n          [227, 229, 228],\n          [227, 229, 228],\n          [227, 229, 228]],\n\n         ...,\n\n         [[208,  25,  19],\n          [207,  24,  18],\n          [206,  23,  17],\n          ...,\n          [205,  13,   8],\n          [184,  21,   4],\n          [184,  21,   4]],\n\n         [[205,  24,  17],\n          [204,  23,  16],\n          [205,  22,  16],\n          ...,\n          [202,  20,   9],\n          [197,  19,   9],\n          [197,  19,   9]],\n\n         [[203,  24,  17],\n          [204,  23,  16],\n          [205,  22,  16],\n          ...,\n          [196,  23,   7],\n          [207,  13,  11],\n          [207,  13,  11]]],\n\n\n        [[[130, 147, 175],\n          [131, 148, 176],\n          [136, 152, 178],\n          ...,\n          [114,  77,  58],\n          [119,  75,  66],\n          [119,  75,  66]],\n\n         [[130, 147, 175],\n          [131, 148, 176],\n          [136, 152, 178],\n          ...,\n          [114,  77,  58],\n          [119,  75,  66],\n          [119,  75,  66]],\n\n         [[130, 147, 175],\n          [131, 148, 176],\n          [136, 152, 178],\n          ...,\n          [114,  77,  58],\n          [119,  75,  66],\n          [119,  75,  66]],\n\n         ...,\n\n         [[190, 162, 140],\n          [176, 149, 128],\n          [171, 146, 126],\n          ...,\n          [212, 194, 182],\n          [204, 185, 171],\n          [204, 185, 171]],\n\n         [[198, 170, 148],\n          [197, 170, 149],\n          [167, 145, 124],\n          ...,\n          [218, 200, 188],\n          [211, 192, 178],\n          [210, 191, 177]],\n\n         [[199, 171, 147],\n          [197, 171, 148],\n          [168, 146, 125],\n          ...,\n          [217, 200, 190],\n          [211, 192, 178],\n          [210, 191, 177]]]], dtype=torch.uint8)\ncheck\n"
     ]
    },
    {
     "output_type": "execute_result",
     "data": {
      "text/plain": [
       "'\\nfor i in range(100):\\n    print(i)\\n    data=next(data_iter)\\n    sample, target = data\\n    print(sample)\\n'"
      ]
     },
     "metadata": {},
     "execution_count": 2
    }
   ],
   "source": [
    "device=torch.device('cuda:0')\n",
    "#define relevant paths\n",
    "labels_dir=\"Data\\list_attr_celeba.csv\"\n",
    "label=\"Arched_Eyebrows\"\n",
    "image_dir=\"Data\\img_align_celeba\"\n",
    "\n",
    "#define composed transforms\n",
    "composed = transforms.Compose([transforms.ToTensor()])\n",
    "\n",
    "ds=Binary_Dataset(labels_dir, label,image_dir ,transform=composed)\n",
    "dataset_loader=DataLoader(ds,batch_size=100, shuffle=True, num_workers=0)\n",
    "\n",
    "data_iter=iter(dataset_loader)\n",
    "data=next(data_iter)\n",
    "sample, target = data\n",
    "print(sample)\n",
    "\n",
    "print(\"check\")\n",
    "\"\"\"\n",
    "for i in range(100):\n",
    "    print(i)\n",
    "    data=next(data_iter)\n",
    "    sample, target = data\n",
    "    print(sample)\n",
    "\"\"\""
   ]
  },
  {
   "cell_type": "code",
   "execution_count": 3,
   "metadata": {},
   "outputs": [
    {
     "output_type": "error",
     "ename": "TypeError",
     "evalue": "Invalid shape (100, 218, 178, 3) for image data",
     "traceback": [
      "\u001b[1;31m---------------------------------------------------------------------------\u001b[0m",
      "\u001b[1;31mTypeError\u001b[0m                                 Traceback (most recent call last)",
      "\u001b[1;32m<ipython-input-3-6d9d9ca0f049>\u001b[0m in \u001b[0;36m<module>\u001b[1;34m\u001b[0m\n\u001b[1;32m----> 1\u001b[1;33m \u001b[0mplt\u001b[0m\u001b[1;33m.\u001b[0m\u001b[0mimshow\u001b[0m\u001b[1;33m(\u001b[0m\u001b[0mtorch\u001b[0m\u001b[1;33m.\u001b[0m\u001b[0msqueeze\u001b[0m\u001b[1;33m(\u001b[0m\u001b[0mdata\u001b[0m\u001b[1;33m[\u001b[0m\u001b[1;36m0\u001b[0m\u001b[1;33m]\u001b[0m\u001b[1;33m)\u001b[0m\u001b[1;33m)\u001b[0m\u001b[1;33m\u001b[0m\u001b[1;33m\u001b[0m\u001b[0m\n\u001b[0m\u001b[0;32m      2\u001b[0m \u001b[0mprint\u001b[0m\u001b[1;33m(\u001b[0m\u001b[0mtarget\u001b[0m\u001b[1;33m[\u001b[0m\u001b[1;36m0\u001b[0m\u001b[1;33m]\u001b[0m\u001b[1;33m)\u001b[0m\u001b[1;33m\u001b[0m\u001b[1;33m\u001b[0m\u001b[0m\n",
      "\u001b[1;32m~\\anaconda3\\envs\\Pytorch_env\\lib\\site-packages\\matplotlib\\pyplot.py\u001b[0m in \u001b[0;36mimshow\u001b[1;34m(X, cmap, norm, aspect, interpolation, alpha, vmin, vmax, origin, extent, filternorm, filterrad, resample, url, data, **kwargs)\u001b[0m\n\u001b[0;32m   2728\u001b[0m         \u001b[0mfilternorm\u001b[0m\u001b[1;33m=\u001b[0m\u001b[0mfilternorm\u001b[0m\u001b[1;33m,\u001b[0m \u001b[0mfilterrad\u001b[0m\u001b[1;33m=\u001b[0m\u001b[0mfilterrad\u001b[0m\u001b[1;33m,\u001b[0m \u001b[0mresample\u001b[0m\u001b[1;33m=\u001b[0m\u001b[0mresample\u001b[0m\u001b[1;33m,\u001b[0m\u001b[1;33m\u001b[0m\u001b[1;33m\u001b[0m\u001b[0m\n\u001b[0;32m   2729\u001b[0m         \u001b[0murl\u001b[0m\u001b[1;33m=\u001b[0m\u001b[0murl\u001b[0m\u001b[1;33m,\u001b[0m \u001b[1;33m**\u001b[0m\u001b[1;33m(\u001b[0m\u001b[1;33m{\u001b[0m\u001b[1;34m\"data\"\u001b[0m\u001b[1;33m:\u001b[0m \u001b[0mdata\u001b[0m\u001b[1;33m}\u001b[0m \u001b[1;32mif\u001b[0m \u001b[0mdata\u001b[0m \u001b[1;32mis\u001b[0m \u001b[1;32mnot\u001b[0m \u001b[1;32mNone\u001b[0m \u001b[1;32melse\u001b[0m \u001b[1;33m{\u001b[0m\u001b[1;33m}\u001b[0m\u001b[1;33m)\u001b[0m\u001b[1;33m,\u001b[0m\u001b[1;33m\u001b[0m\u001b[1;33m\u001b[0m\u001b[0m\n\u001b[1;32m-> 2730\u001b[1;33m         **kwargs)\n\u001b[0m\u001b[0;32m   2731\u001b[0m     \u001b[0msci\u001b[0m\u001b[1;33m(\u001b[0m\u001b[0m__ret\u001b[0m\u001b[1;33m)\u001b[0m\u001b[1;33m\u001b[0m\u001b[1;33m\u001b[0m\u001b[0m\n\u001b[0;32m   2732\u001b[0m     \u001b[1;32mreturn\u001b[0m \u001b[0m__ret\u001b[0m\u001b[1;33m\u001b[0m\u001b[1;33m\u001b[0m\u001b[0m\n",
      "\u001b[1;32m~\\anaconda3\\envs\\Pytorch_env\\lib\\site-packages\\matplotlib\\__init__.py\u001b[0m in \u001b[0;36minner\u001b[1;34m(ax, data, *args, **kwargs)\u001b[0m\n\u001b[0;32m   1436\u001b[0m     \u001b[1;32mdef\u001b[0m \u001b[0minner\u001b[0m\u001b[1;33m(\u001b[0m\u001b[0max\u001b[0m\u001b[1;33m,\u001b[0m \u001b[1;33m*\u001b[0m\u001b[0margs\u001b[0m\u001b[1;33m,\u001b[0m \u001b[0mdata\u001b[0m\u001b[1;33m=\u001b[0m\u001b[1;32mNone\u001b[0m\u001b[1;33m,\u001b[0m \u001b[1;33m**\u001b[0m\u001b[0mkwargs\u001b[0m\u001b[1;33m)\u001b[0m\u001b[1;33m:\u001b[0m\u001b[1;33m\u001b[0m\u001b[1;33m\u001b[0m\u001b[0m\n\u001b[0;32m   1437\u001b[0m         \u001b[1;32mif\u001b[0m \u001b[0mdata\u001b[0m \u001b[1;32mis\u001b[0m \u001b[1;32mNone\u001b[0m\u001b[1;33m:\u001b[0m\u001b[1;33m\u001b[0m\u001b[1;33m\u001b[0m\u001b[0m\n\u001b[1;32m-> 1438\u001b[1;33m             \u001b[1;32mreturn\u001b[0m \u001b[0mfunc\u001b[0m\u001b[1;33m(\u001b[0m\u001b[0max\u001b[0m\u001b[1;33m,\u001b[0m \u001b[1;33m*\u001b[0m\u001b[0mmap\u001b[0m\u001b[1;33m(\u001b[0m\u001b[0msanitize_sequence\u001b[0m\u001b[1;33m,\u001b[0m \u001b[0margs\u001b[0m\u001b[1;33m)\u001b[0m\u001b[1;33m,\u001b[0m \u001b[1;33m**\u001b[0m\u001b[0mkwargs\u001b[0m\u001b[1;33m)\u001b[0m\u001b[1;33m\u001b[0m\u001b[1;33m\u001b[0m\u001b[0m\n\u001b[0m\u001b[0;32m   1439\u001b[0m \u001b[1;33m\u001b[0m\u001b[0m\n\u001b[0;32m   1440\u001b[0m         \u001b[0mbound\u001b[0m \u001b[1;33m=\u001b[0m \u001b[0mnew_sig\u001b[0m\u001b[1;33m.\u001b[0m\u001b[0mbind\u001b[0m\u001b[1;33m(\u001b[0m\u001b[0max\u001b[0m\u001b[1;33m,\u001b[0m \u001b[1;33m*\u001b[0m\u001b[0margs\u001b[0m\u001b[1;33m,\u001b[0m \u001b[1;33m**\u001b[0m\u001b[0mkwargs\u001b[0m\u001b[1;33m)\u001b[0m\u001b[1;33m\u001b[0m\u001b[1;33m\u001b[0m\u001b[0m\n",
      "\u001b[1;32m~\\anaconda3\\envs\\Pytorch_env\\lib\\site-packages\\matplotlib\\axes\\_axes.py\u001b[0m in \u001b[0;36mimshow\u001b[1;34m(self, X, cmap, norm, aspect, interpolation, alpha, vmin, vmax, origin, extent, filternorm, filterrad, resample, url, **kwargs)\u001b[0m\n\u001b[0;32m   5521\u001b[0m                               resample=resample, **kwargs)\n\u001b[0;32m   5522\u001b[0m \u001b[1;33m\u001b[0m\u001b[0m\n\u001b[1;32m-> 5523\u001b[1;33m         \u001b[0mim\u001b[0m\u001b[1;33m.\u001b[0m\u001b[0mset_data\u001b[0m\u001b[1;33m(\u001b[0m\u001b[0mX\u001b[0m\u001b[1;33m)\u001b[0m\u001b[1;33m\u001b[0m\u001b[1;33m\u001b[0m\u001b[0m\n\u001b[0m\u001b[0;32m   5524\u001b[0m         \u001b[0mim\u001b[0m\u001b[1;33m.\u001b[0m\u001b[0mset_alpha\u001b[0m\u001b[1;33m(\u001b[0m\u001b[0malpha\u001b[0m\u001b[1;33m)\u001b[0m\u001b[1;33m\u001b[0m\u001b[1;33m\u001b[0m\u001b[0m\n\u001b[0;32m   5525\u001b[0m         \u001b[1;32mif\u001b[0m \u001b[0mim\u001b[0m\u001b[1;33m.\u001b[0m\u001b[0mget_clip_path\u001b[0m\u001b[1;33m(\u001b[0m\u001b[1;33m)\u001b[0m \u001b[1;32mis\u001b[0m \u001b[1;32mNone\u001b[0m\u001b[1;33m:\u001b[0m\u001b[1;33m\u001b[0m\u001b[1;33m\u001b[0m\u001b[0m\n",
      "\u001b[1;32m~\\anaconda3\\envs\\Pytorch_env\\lib\\site-packages\\matplotlib\\image.py\u001b[0m in \u001b[0;36mset_data\u001b[1;34m(self, A)\u001b[0m\n\u001b[0;32m    708\u001b[0m                 or self._A.ndim == 3 and self._A.shape[-1] in [3, 4]):\n\u001b[0;32m    709\u001b[0m             raise TypeError(\"Invalid shape {} for image data\"\n\u001b[1;32m--> 710\u001b[1;33m                             .format(self._A.shape))\n\u001b[0m\u001b[0;32m    711\u001b[0m \u001b[1;33m\u001b[0m\u001b[0m\n\u001b[0;32m    712\u001b[0m         \u001b[1;32mif\u001b[0m \u001b[0mself\u001b[0m\u001b[1;33m.\u001b[0m\u001b[0m_A\u001b[0m\u001b[1;33m.\u001b[0m\u001b[0mndim\u001b[0m \u001b[1;33m==\u001b[0m \u001b[1;36m3\u001b[0m\u001b[1;33m:\u001b[0m\u001b[1;33m\u001b[0m\u001b[1;33m\u001b[0m\u001b[0m\n",
      "\u001b[1;31mTypeError\u001b[0m: Invalid shape (100, 218, 178, 3) for image data"
     ]
    }
   ],
   "source": [
    "plt.imshow(torch.squeeze(data[0]))\n",
    "print(target[0])"
   ]
  },
  {
   "cell_type": "code",
   "execution_count": 4,
   "metadata": {},
   "outputs": [
    {
     "output_type": "execute_result",
     "data": {
      "text/plain": [
       "torch.Size([218, 178, 3])"
      ]
     },
     "metadata": {},
     "execution_count": 4
    }
   ],
   "source": [
    "torch.squeeze(data[0]).shape"
   ]
  },
  {
   "cell_type": "code",
   "execution_count": 6,
   "metadata": {},
   "outputs": [],
   "source": [
    "temp = Image.open(r\"C:\\Users\\Subin\\OneDrive\\UH Fall 2020 Classes\\Deep Learning UH\\Final_Project\\DeepLearning_Project\\Data\\img_align_celeba\\197183.jpg\")"
   ]
  },
  {
   "cell_type": "code",
   "execution_count": 12,
   "metadata": {},
   "outputs": [
    {
     "output_type": "error",
     "ename": "KeyError",
     "evalue": "-1",
     "traceback": [
      "\u001b[1;31m---------------------------------------------------------------------------\u001b[0m",
      "\u001b[1;31mValueError\u001b[0m                                Traceback (most recent call last)",
      "\u001b[1;32m~\\anaconda3\\envs\\Pytorch_env\\lib\\site-packages\\pandas\\core\\indexes\\range.py\u001b[0m in \u001b[0;36mget_loc\u001b[1;34m(self, key, method, tolerance)\u001b[0m\n\u001b[0;32m    354\u001b[0m                 \u001b[1;32mtry\u001b[0m\u001b[1;33m:\u001b[0m\u001b[1;33m\u001b[0m\u001b[1;33m\u001b[0m\u001b[0m\n\u001b[1;32m--> 355\u001b[1;33m                     \u001b[1;32mreturn\u001b[0m \u001b[0mself\u001b[0m\u001b[1;33m.\u001b[0m\u001b[0m_range\u001b[0m\u001b[1;33m.\u001b[0m\u001b[0mindex\u001b[0m\u001b[1;33m(\u001b[0m\u001b[0mnew_key\u001b[0m\u001b[1;33m)\u001b[0m\u001b[1;33m\u001b[0m\u001b[1;33m\u001b[0m\u001b[0m\n\u001b[0m\u001b[0;32m    356\u001b[0m                 \u001b[1;32mexcept\u001b[0m \u001b[0mValueError\u001b[0m \u001b[1;32mas\u001b[0m \u001b[0merr\u001b[0m\u001b[1;33m:\u001b[0m\u001b[1;33m\u001b[0m\u001b[1;33m\u001b[0m\u001b[0m\n",
      "\u001b[1;31mValueError\u001b[0m: -1 is not in range",
      "\nThe above exception was the direct cause of the following exception:\n",
      "\u001b[1;31mKeyError\u001b[0m                                  Traceback (most recent call last)",
      "\u001b[1;32m<ipython-input-12-ee1877a2b9b4>\u001b[0m in \u001b[0;36m<module>\u001b[1;34m\u001b[0m\n\u001b[0;32m      2\u001b[0m \u001b[0mdf\u001b[0m\u001b[1;33m=\u001b[0m\u001b[0mdf_attr\u001b[0m\u001b[1;33m[\u001b[0m\u001b[0mlabel\u001b[0m\u001b[1;33m]\u001b[0m \u001b[1;31m#dataframe of the chosen label\u001b[0m\u001b[1;33m\u001b[0m\u001b[1;33m\u001b[0m\u001b[0m\n\u001b[0;32m      3\u001b[0m \u001b[0mimg_names\u001b[0m\u001b[1;33m=\u001b[0m\u001b[0mdf_attr\u001b[0m\u001b[1;33m[\u001b[0m\u001b[1;34m\"image_id\"\u001b[0m\u001b[1;33m]\u001b[0m \u001b[1;31m#dataframe of image ids\u001b[0m\u001b[1;33m\u001b[0m\u001b[1;33m\u001b[0m\u001b[0m\n\u001b[1;32m----> 4\u001b[1;33m \u001b[0mimage_path\u001b[0m\u001b[1;33m=\u001b[0m\u001b[0mos\u001b[0m\u001b[1;33m.\u001b[0m\u001b[0mpath\u001b[0m\u001b[1;33m.\u001b[0m\u001b[0mjoin\u001b[0m\u001b[1;33m(\u001b[0m\u001b[0mimage_dir\u001b[0m\u001b[1;33m,\u001b[0m\u001b[0mimg_names\u001b[0m\u001b[1;33m[\u001b[0m\u001b[1;33m-\u001b[0m\u001b[1;36m1\u001b[0m\u001b[1;33m]\u001b[0m\u001b[1;33m)\u001b[0m \u001b[1;31m#this might be where the problem is\u001b[0m\u001b[1;33m\u001b[0m\u001b[1;33m\u001b[0m\u001b[0m\n\u001b[0m\u001b[0;32m      5\u001b[0m \u001b[0mimage\u001b[0m \u001b[1;33m=\u001b[0m \u001b[0mio\u001b[0m\u001b[1;33m.\u001b[0m\u001b[0mimread\u001b[0m\u001b[1;33m(\u001b[0m\u001b[0mimage_path\u001b[0m\u001b[1;33m)\u001b[0m\u001b[1;33m\u001b[0m\u001b[1;33m\u001b[0m\u001b[0m\n",
      "\u001b[1;32m~\\anaconda3\\envs\\Pytorch_env\\lib\\site-packages\\pandas\\core\\series.py\u001b[0m in \u001b[0;36m__getitem__\u001b[1;34m(self, key)\u001b[0m\n\u001b[0;32m    880\u001b[0m \u001b[1;33m\u001b[0m\u001b[0m\n\u001b[0;32m    881\u001b[0m         \u001b[1;32melif\u001b[0m \u001b[0mkey_is_scalar\u001b[0m\u001b[1;33m:\u001b[0m\u001b[1;33m\u001b[0m\u001b[1;33m\u001b[0m\u001b[0m\n\u001b[1;32m--> 882\u001b[1;33m             \u001b[1;32mreturn\u001b[0m \u001b[0mself\u001b[0m\u001b[1;33m.\u001b[0m\u001b[0m_get_value\u001b[0m\u001b[1;33m(\u001b[0m\u001b[0mkey\u001b[0m\u001b[1;33m)\u001b[0m\u001b[1;33m\u001b[0m\u001b[1;33m\u001b[0m\u001b[0m\n\u001b[0m\u001b[0;32m    883\u001b[0m \u001b[1;33m\u001b[0m\u001b[0m\n\u001b[0;32m    884\u001b[0m         \u001b[1;32mif\u001b[0m \u001b[0mis_hashable\u001b[0m\u001b[1;33m(\u001b[0m\u001b[0mkey\u001b[0m\u001b[1;33m)\u001b[0m\u001b[1;33m:\u001b[0m\u001b[1;33m\u001b[0m\u001b[1;33m\u001b[0m\u001b[0m\n",
      "\u001b[1;32m~\\anaconda3\\envs\\Pytorch_env\\lib\\site-packages\\pandas\\core\\series.py\u001b[0m in \u001b[0;36m_get_value\u001b[1;34m(self, label, takeable)\u001b[0m\n\u001b[0;32m    987\u001b[0m \u001b[1;33m\u001b[0m\u001b[0m\n\u001b[0;32m    988\u001b[0m         \u001b[1;31m# Similar to Index.get_value, but we do not fall back to positional\u001b[0m\u001b[1;33m\u001b[0m\u001b[1;33m\u001b[0m\u001b[1;33m\u001b[0m\u001b[0m\n\u001b[1;32m--> 989\u001b[1;33m         \u001b[0mloc\u001b[0m \u001b[1;33m=\u001b[0m \u001b[0mself\u001b[0m\u001b[1;33m.\u001b[0m\u001b[0mindex\u001b[0m\u001b[1;33m.\u001b[0m\u001b[0mget_loc\u001b[0m\u001b[1;33m(\u001b[0m\u001b[0mlabel\u001b[0m\u001b[1;33m)\u001b[0m\u001b[1;33m\u001b[0m\u001b[1;33m\u001b[0m\u001b[0m\n\u001b[0m\u001b[0;32m    990\u001b[0m         \u001b[1;32mreturn\u001b[0m \u001b[0mself\u001b[0m\u001b[1;33m.\u001b[0m\u001b[0mindex\u001b[0m\u001b[1;33m.\u001b[0m\u001b[0m_get_values_for_loc\u001b[0m\u001b[1;33m(\u001b[0m\u001b[0mself\u001b[0m\u001b[1;33m,\u001b[0m \u001b[0mloc\u001b[0m\u001b[1;33m,\u001b[0m \u001b[0mlabel\u001b[0m\u001b[1;33m)\u001b[0m\u001b[1;33m\u001b[0m\u001b[1;33m\u001b[0m\u001b[0m\n\u001b[0;32m    991\u001b[0m \u001b[1;33m\u001b[0m\u001b[0m\n",
      "\u001b[1;32m~\\anaconda3\\envs\\Pytorch_env\\lib\\site-packages\\pandas\\core\\indexes\\range.py\u001b[0m in \u001b[0;36mget_loc\u001b[1;34m(self, key, method, tolerance)\u001b[0m\n\u001b[0;32m    355\u001b[0m                     \u001b[1;32mreturn\u001b[0m \u001b[0mself\u001b[0m\u001b[1;33m.\u001b[0m\u001b[0m_range\u001b[0m\u001b[1;33m.\u001b[0m\u001b[0mindex\u001b[0m\u001b[1;33m(\u001b[0m\u001b[0mnew_key\u001b[0m\u001b[1;33m)\u001b[0m\u001b[1;33m\u001b[0m\u001b[1;33m\u001b[0m\u001b[0m\n\u001b[0;32m    356\u001b[0m                 \u001b[1;32mexcept\u001b[0m \u001b[0mValueError\u001b[0m \u001b[1;32mas\u001b[0m \u001b[0merr\u001b[0m\u001b[1;33m:\u001b[0m\u001b[1;33m\u001b[0m\u001b[1;33m\u001b[0m\u001b[0m\n\u001b[1;32m--> 357\u001b[1;33m                     \u001b[1;32mraise\u001b[0m \u001b[0mKeyError\u001b[0m\u001b[1;33m(\u001b[0m\u001b[0mkey\u001b[0m\u001b[1;33m)\u001b[0m \u001b[1;32mfrom\u001b[0m \u001b[0merr\u001b[0m\u001b[1;33m\u001b[0m\u001b[1;33m\u001b[0m\u001b[0m\n\u001b[0m\u001b[0;32m    358\u001b[0m             \u001b[1;32mraise\u001b[0m \u001b[0mKeyError\u001b[0m\u001b[1;33m(\u001b[0m\u001b[0mkey\u001b[0m\u001b[1;33m)\u001b[0m\u001b[1;33m\u001b[0m\u001b[1;33m\u001b[0m\u001b[0m\n\u001b[0;32m    359\u001b[0m         \u001b[1;32mreturn\u001b[0m \u001b[0msuper\u001b[0m\u001b[1;33m(\u001b[0m\u001b[1;33m)\u001b[0m\u001b[1;33m.\u001b[0m\u001b[0mget_loc\u001b[0m\u001b[1;33m(\u001b[0m\u001b[0mkey\u001b[0m\u001b[1;33m,\u001b[0m \u001b[0mmethod\u001b[0m\u001b[1;33m=\u001b[0m\u001b[0mmethod\u001b[0m\u001b[1;33m,\u001b[0m \u001b[0mtolerance\u001b[0m\u001b[1;33m=\u001b[0m\u001b[0mtolerance\u001b[0m\u001b[1;33m)\u001b[0m\u001b[1;33m\u001b[0m\u001b[1;33m\u001b[0m\u001b[0m\n",
      "\u001b[1;31mKeyError\u001b[0m: -1"
     ]
    }
   ],
   "source": [
    "df_attr=pd.read_csv(labels_dir)\n",
    "df=df_attr[label] #dataframe of the chosen label\n",
    "img_names=df_attr[\"image_id\"] #dataframe of image ids\n",
    "image_path=os.path.join(image_dir,img_names[90000]) #this might be where the problem is\n",
    "image = io.imread(image_path)"
   ]
  },
  {
   "cell_type": "code",
   "execution_count": null,
   "metadata": {},
   "outputs": [],
   "source": []
  }
 ]
}