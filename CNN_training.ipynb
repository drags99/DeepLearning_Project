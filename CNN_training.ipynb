{
 "metadata": {
  "language_info": {
   "codemirror_mode": {
    "name": "ipython",
    "version": 3
   },
   "file_extension": ".py",
   "mimetype": "text/x-python",
   "name": "python",
   "nbconvert_exporter": "python",
   "pygments_lexer": "ipython3",
   "version": "3.8.3-final"
  },
  "orig_nbformat": 2,
  "kernelspec": {
   "name": "python38364bitpyjupcondab182b687c2fa457b861f427f3f11751e",
   "display_name": "Python 3.8.3 64-bit ('py_jup': conda)"
  }
 },
 "nbformat": 4,
 "nbformat_minor": 2,
 "cells": [
  {
   "source": [
    "# Import Libraries\n",
    "\n"
   ],
   "cell_type": "markdown",
   "metadata": {}
  },
  {
   "cell_type": "code",
   "execution_count": 2,
   "metadata": {},
   "outputs": [],
   "source": [
    "import pandas as pd\n",
    "import numpy as np\n",
    "import torch\n",
    "import torch.nn as nn\n",
    "from torch.utils.data import Dataset, DataLoader\n",
    "from torchvision import transforms, utils"
   ]
  },
  {
   "source": [
    "# Load Data\n"
   ],
   "cell_type": "markdown",
   "metadata": {}
  },
  {
   "cell_type": "code",
   "execution_count": 3,
   "metadata": {},
   "outputs": [],
   "source": [
    "#change the below line to your Data folder location\n",
    "Data_folder = r\"C:\\Users\\Subin\\OneDrive\\UH Fall 2020 Classes\\Deep Learning UH\\Final_Project\\DeepLearning_Project\\Data\"\n",
    "\n",
    "images_folder = Data_folder + r\"\\img_align_celeba\\img_align_celeba\"\n"
   ]
  },
  {
   "source": [
    "# Data Exploration\n"
   ],
   "cell_type": "markdown",
   "metadata": {}
  },
  {
   "cell_type": "code",
   "execution_count": 4,
   "metadata": {},
   "outputs": [],
   "source": [
    "labels=pd.read_csv(\"Data/list_attr_celeba.csv\")\n",
    "#Figure out how to plot the distributions of the variables"
   ]
  },
  {
   "cell_type": "code",
   "execution_count": 24,
   "metadata": {},
   "outputs": [
    {
     "output_type": "execute_result",
     "data": {
      "text/plain": [
       "'000002.jpg'"
      ]
     },
     "metadata": {},
     "execution_count": 24
    }
   ],
   "source": [
    "labels.iloc[1,0]"
   ]
  }
 ]
}